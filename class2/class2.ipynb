{
 "cells": [
  {
   "cell_type": "code",
   "execution_count": null,
   "metadata": {},
   "outputs": [],
   "source": []
  },
  {
   "cell_type": "code",
   "execution_count": 8,
   "metadata": {},
   "outputs": [
    {
     "name": "stdout",
     "output_type": "stream",
     "text": [
      "dad\n"
     ]
    }
   ],
   "source": [
    "s= \"dad\"\n",
    "print(s)"
   ]
  },
  {
   "cell_type": "code",
   "execution_count": 9,
   "metadata": {},
   "outputs": [
    {
     "name": "stdout",
     "output_type": "stream",
     "text": [
      "\"zarnian\"\n",
      " \"naz\"  MUhmamd Abid BS in SE \n"
     ]
    }
   ],
   "source": [
    "name : str = '\"zarnian\"\\n \"naz\" '\n",
    "\n",
    "fname : str = \"MUhmamd Abid\"\n",
    "educaton : str = \"BS in SE \"\n",
    "age : int = 19\n",
    "print (name  , fname , educaton)"
   ]
  },
  {
   "cell_type": "code",
   "execution_count": 10,
   "metadata": {},
   "outputs": [
    {
     "name": "stdout",
     "output_type": "stream",
     "text": [
      "PIAIC student card student name is \n",
      " \"zarnian\"\n",
      " \"naz\" and father name is MUhmamd Abidand education is BS in SE and age is 19\n"
     ]
    }
   ],
   "source": [
    "card  : str = \"PIAIC student card student name is \\n \" +name+ \"and father name is \" +fname+ \"and education is \" +educaton+ \"and age is \" + str(age)\n",
    "print(card)"
   ]
  },
  {
   "cell_type": "code",
   "execution_count": 11,
   "metadata": {},
   "outputs": [
    {
     "name": "stdout",
     "output_type": "stream",
     "text": [
      "15\n"
     ]
    }
   ],
   "source": [
    "# \\ backslash means line continue\n",
    "print(6 +\\\n",
    "            +5\\\n",
    "      +4)"
   ]
  },
  {
   "cell_type": "code",
   "execution_count": 14,
   "metadata": {},
   "outputs": [
    {
     "name": "stdout",
     "output_type": "stream",
     "text": [
      "\n",
      "name : str = '\"zarnian\"\n",
      " \"naz\" '\n",
      "fname : str = \"MUhmamd Abid\"\n",
      "educaton : str = \"BS in SE \"\n",
      "age : int = 19\n",
      "\n"
     ]
    }
   ],
   "source": [
    "#define mult iline string ''' string ''' or \"\"\"\" string \"\"\"\"\n",
    "\n",
    "card :str = '''\n",
    "name : str = '\"zarnian\"\\n \"naz\" '\n",
    "fname : str = \"MUhmamd Abid\"\n",
    "educaton : str = \"BS in SE \"\n",
    "age : int = 19\n",
    "'''\n",
    "print(card)"
   ]
  },
  {
   "cell_type": "code",
   "execution_count": 16,
   "metadata": {},
   "outputs": [
    {
     "name": "stdout",
     "output_type": "stream",
     "text": [
      "\n",
      "name  = \"zarnian\"\n",
      " \"naz\" \n",
      "fname= MUhmamd Abid\n",
      "educaton= BS in SE \n",
      "age = 19\n",
      "\n"
     ]
    }
   ],
   "source": [
    "# F-string python \n",
    "card :str = f'''\n",
    "name  = {name}\n",
    "fname= {fname}\n",
    "educaton= {educaton}\n",
    "age = {age}\n",
    "'''\n",
    "print(card)"
   ]
  },
  {
   "cell_type": "code",
   "execution_count": 18,
   "metadata": {},
   "outputs": [
    {
     "data": {
      "text/plain": [
       "'\\nstudent name {{name}}\\n'"
      ]
     },
     "execution_count": 18,
     "metadata": {},
     "output_type": "execute_result"
    }
   ],
   "source": [
    "# F-string and jinja\n",
    "'''\n",
    "student name {{name}}\n",
    "'''\n"
   ]
  },
  {
   "cell_type": "code",
   "execution_count": 19,
   "metadata": {},
   "outputs": [
    {
     "name": "stdout",
     "output_type": "stream",
     "text": [
      "\n",
      "name  = \"zarnian\"\n",
      " \"naz\" \n",
      "fname= MUhmamd Abid\n",
      "educaton= BS in SE \n",
      "age = 19\n",
      "\n"
     ]
    }
   ],
   "source": [
    "card :str = f'''\n",
    "name  = %s\n",
    "fname= %s\n",
    "educaton= %s\n",
    "age = %d\n",
    "''' %(name , fname , educaton ,age)\n",
    "print(card)"
   ]
  },
  {
   "cell_type": "code",
   "execution_count": 20,
   "metadata": {},
   "outputs": [
    {
     "data": {
      "text/plain": [
       "['__add__',\n",
       " '__class__',\n",
       " '__contains__',\n",
       " '__delattr__',\n",
       " '__dir__',\n",
       " '__doc__',\n",
       " '__eq__',\n",
       " '__format__',\n",
       " '__ge__',\n",
       " '__getattribute__',\n",
       " '__getitem__',\n",
       " '__getnewargs__',\n",
       " '__getstate__',\n",
       " '__gt__',\n",
       " '__hash__',\n",
       " '__init__',\n",
       " '__init_subclass__',\n",
       " '__iter__',\n",
       " '__le__',\n",
       " '__len__',\n",
       " '__lt__',\n",
       " '__mod__',\n",
       " '__mul__',\n",
       " '__ne__',\n",
       " '__new__',\n",
       " '__reduce__',\n",
       " '__reduce_ex__',\n",
       " '__repr__',\n",
       " '__rmod__',\n",
       " '__rmul__',\n",
       " '__setattr__',\n",
       " '__sizeof__',\n",
       " '__str__',\n",
       " '__subclasshook__',\n",
       " 'capitalize',\n",
       " 'casefold',\n",
       " 'center',\n",
       " 'count',\n",
       " 'encode',\n",
       " 'endswith',\n",
       " 'expandtabs',\n",
       " 'find',\n",
       " 'format',\n",
       " 'format_map',\n",
       " 'index',\n",
       " 'isalnum',\n",
       " 'isalpha',\n",
       " 'isascii',\n",
       " 'isdecimal',\n",
       " 'isdigit',\n",
       " 'isidentifier',\n",
       " 'islower',\n",
       " 'isnumeric',\n",
       " 'isprintable',\n",
       " 'isspace',\n",
       " 'istitle',\n",
       " 'isupper',\n",
       " 'join',\n",
       " 'ljust',\n",
       " 'lower',\n",
       " 'lstrip',\n",
       " 'maketrans',\n",
       " 'partition',\n",
       " 'removeprefix',\n",
       " 'removesuffix',\n",
       " 'replace',\n",
       " 'rfind',\n",
       " 'rindex',\n",
       " 'rjust',\n",
       " 'rpartition',\n",
       " 'rsplit',\n",
       " 'rstrip',\n",
       " 'split',\n",
       " 'splitlines',\n",
       " 'startswith',\n",
       " 'strip',\n",
       " 'swapcase',\n",
       " 'title',\n",
       " 'translate',\n",
       " 'upper',\n",
       " 'zfill']"
      ]
     },
     "execution_count": 20,
     "metadata": {},
     "output_type": "execute_result"
    }
   ],
   "source": [
    "dir(str)"
   ]
  },
  {
   "cell_type": "code",
   "execution_count": 22,
   "metadata": {},
   "outputs": [
    {
     "name": "stdout",
     "output_type": "stream",
     "text": [
      "mihammd qsaim\n",
      "Mihammd qsaim\n"
     ]
    }
   ],
   "source": [
    "name : str= \"MihammD QsaIm\"\n",
    "print(name.lower())\n",
    "print(name.capitalize())"
   ]
  },
  {
   "cell_type": "code",
   "execution_count": 23,
   "metadata": {},
   "outputs": [
    {
     "data": {
      "text/plain": [
       "'pakistan value a =9 and value b is 34'"
      ]
     },
     "execution_count": 23,
     "metadata": {},
     "output_type": "execute_result"
    }
   ],
   "source": [
    "a= 9 \n",
    "b=34\n",
    "# {} placeholder\n",
    "\"pakistan value a ={} and value b is {}\".format(a,b)"
   ]
  },
  {
   "cell_type": "code",
   "execution_count": 26,
   "metadata": {},
   "outputs": [
    {
     "name": "stdout",
     "output_type": "stream",
     "text": [
      "\n",
      "name  = 19\n",
      "fname= MUhmamd Abid\n",
      "educaton= MihammD QsaIm\n",
      "age = BS in SE \n",
      "\n"
     ]
    }
   ],
   "source": [
    "card :str = '''\n",
    "name  = {3}\n",
    "fname= {1}\n",
    "educaton= {0}\n",
    "age = {2}\n",
    "''' .format(name , fname , educaton ,age)\n",
    "print(card)"
   ]
  },
  {
   "cell_type": "code",
   "execution_count": 29,
   "metadata": {},
   "outputs": [
    {
     "name": "stdout",
     "output_type": "stream",
     "text": [
      "my name is zarnain\n",
      "43\n"
     ]
    }
   ],
   "source": [
    "student_code : str = '''\n",
    "print(\"my name is zarnain\")\n",
    "a:int = 9\n",
    "b:int =34\n",
    "print(a+b)\n",
    "'''\n",
    "exec(student_code)"
   ]
  },
  {
   "cell_type": "markdown",
   "metadata": {},
   "source": [
    "#exploring string methods and attributes\n",
    "(pre defined )global function\n",
    "print\n",
    "id\n",
    " dir\n",
    " len\n",
    " type\n",
    " \n"
   ]
  },
  {
   "cell_type": "code",
   "execution_count": 32,
   "metadata": {},
   "outputs": [
    {
     "name": "stdout",
     "output_type": "stream",
     "text": [
      "47\n"
     ]
    }
   ],
   "source": [
    "a: list[str] = [i for i in dir(str) if \"__\" not in i]\n",
    "print(a)\n",
    "print(len(a))"
   ]
  },
  {
   "cell_type": "code",
   "execution_count": 35,
   "metadata": {},
   "outputs": [
    {
     "name": "stdout",
     "output_type": "stream",
     "text": [
      "Muhammad ali\n",
      "MUHAMMAD ALI\n"
     ]
    }
   ],
   "source": [
    "name: str= \"muhammad ali\"\n",
    "print(name.capitalize())\n",
    "print(name.upper())"
   ]
  },
  {
   "cell_type": "code",
   "execution_count": 48,
   "metadata": {},
   "outputs": [
    {
     "name": "stdout",
     "output_type": "stream",
     "text": [
      "             zarnain naz             \n"
     ]
    },
    {
     "data": {
      "text/plain": [
       "'             zarnain naz             '"
      ]
     },
     "metadata": {},
     "output_type": "display_data"
    },
    {
     "data": {
      "text/plain": [
       "'zarnain naz             '"
      ]
     },
     "metadata": {},
     "output_type": "display_data"
    },
    {
     "data": {
      "text/plain": [
       "'             zarnain naz             '"
      ]
     },
     "metadata": {},
     "output_type": "display_data"
    },
    {
     "data": {
      "text/plain": [
       "'             zarnain naz'"
      ]
     },
     "metadata": {},
     "output_type": "display_data"
    },
    {
     "data": {
      "text/plain": [
       "'zarnain naz'"
      ]
     },
     "metadata": {},
     "output_type": "display_data"
    }
   ],
   "source": [
    "# lstrip remove left side space \n",
    "name :str = \"             zarnain naz             \"\n",
    "print(name)\n",
    "name.lstrip()\n",
    "display(name)\n",
    "display(name.lstrip())\n",
    "display(name)\n",
    "display(name.rstrip())\n",
    "display(name.strip())"
   ]
  },
  {
   "cell_type": "markdown",
   "metadata": {},
   "source": [
    "lstrip remove space from left\n",
    "rstrip remove space from right\n",
    "stip remove space from  both\n"
   ]
  },
  {
   "cell_type": "code",
   "execution_count": 57,
   "metadata": {},
   "outputs": [
    {
     "data": {
      "text/plain": [
       "'     zarnain   naz    '"
      ]
     },
     "metadata": {},
     "output_type": "display_data"
    },
    {
     "data": {
      "text/plain": [
       "'zarnain   naz'"
      ]
     },
     "metadata": {},
     "output_type": "display_data"
    }
   ],
   "source": [
    "import re\n",
    "name :str = \"     zarnain   naz    \"\n",
    "display(name)\n",
    "name1: str = re.sub('  {2,100}','' ,name).strip()\n",
    "display(name1)"
   ]
  },
  {
   "cell_type": "code",
   "execution_count": 60,
   "metadata": {},
   "outputs": [
    {
     "name": "stdout",
     "output_type": "stream",
     "text": [
      "ada lovely \n",
      "Hello , Ada Lovely !\n"
     ]
    }
   ],
   "source": [
    "first_name:str = \"ada\"\n",
    "last_name: str = \"lovely\"\n",
    "full_name : str =f\"{first_name} {last_name} \"\n",
    "print(full_name)\n",
    "print(f'Hello , {full_name.title()}!')\n"
   ]
  }
 ],
 "metadata": {
  "kernelspec": {
   "display_name": "Python 3",
   "language": "python",
   "name": "python3"
  },
  "language_info": {
   "codemirror_mode": {
    "name": "ipython",
    "version": 3
   },
   "file_extension": ".py",
   "mimetype": "text/x-python",
   "name": "python",
   "nbconvert_exporter": "python",
   "pygments_lexer": "ipython3",
   "version": "3.12.0"
  }
 },
 "nbformat": 4,
 "nbformat_minor": 2
}
