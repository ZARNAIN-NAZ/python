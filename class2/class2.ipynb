{
 "cells": [
  {
   "cell_type": "code",
   "execution_count": null,
   "metadata": {},
   "outputs": [],
   "source": []
  },
  {
   "cell_type": "code",
   "execution_count": 8,
   "metadata": {},
   "outputs": [
    {
     "name": "stdout",
     "output_type": "stream",
     "text": [
      "dad\n"
     ]
    }
   ],
   "source": [
    "s= \"dad\"\n",
    "print(s)"
   ]
  },
  {
   "cell_type": "code",
   "execution_count": 9,
   "metadata": {},
   "outputs": [
    {
     "name": "stdout",
     "output_type": "stream",
     "text": [
      "\"zarnian\"\n",
      " \"naz\"  MUhmamd Abid BS in SE \n"
     ]
    }
   ],
   "source": [
    "name : str = '\"zarnian\"\\n \"naz\" '\n",
    "\n",
    "fname : str = \"MUhmamd Abid\"\n",
    "educaton : str = \"BS in SE \"\n",
    "age : int = 19\n",
    "print (name  , fname , educaton)"
   ]
  },
  {
   "cell_type": "code",
   "execution_count": 10,
   "metadata": {},
   "outputs": [
    {
     "name": "stdout",
     "output_type": "stream",
     "text": [
      "PIAIC student card student name is \n",
      " \"zarnian\"\n",
      " \"naz\" and father name is MUhmamd Abidand education is BS in SE and age is 19\n"
     ]
    }
   ],
   "source": [
    "card  : str = \"PIAIC student card student name is \\n \" +name+ \"and father name is \" +fname+ \"and education is \" +educaton+ \"and age is \" + str(age)\n",
    "print(card)"
   ]
  },
  {
   "cell_type": "code",
   "execution_count": 11,
   "metadata": {},
   "outputs": [
    {
     "name": "stdout",
     "output_type": "stream",
     "text": [
      "15\n"
     ]
    }
   ],
   "source": [
    "# \\ backslash means line continue\n",
    "print(6 +\\\n",
    "            +5\\\n",
    "      +4)"
   ]
  },
  {
   "cell_type": "code",
   "execution_count": 14,
   "metadata": {},
   "outputs": [
    {
     "name": "stdout",
     "output_type": "stream",
     "text": [
      "\n",
      "name : str = '\"zarnian\"\n",
      " \"naz\" '\n",
      "fname : str = \"MUhmamd Abid\"\n",
      "educaton : str = \"BS in SE \"\n",
      "age : int = 19\n",
      "\n"
     ]
    }
   ],
   "source": [
    "#define mult iline string ''' string ''' or \"\"\"\" string \"\"\"\"\n",
    "\n",
    "card :str = '''\n",
    "name : str = '\"zarnian\"\\n \"naz\" '\n",
    "fname : str = \"MUhmamd Abid\"\n",
    "educaton : str = \"BS in SE \"\n",
    "age : int = 19\n",
    "'''\n",
    "print(card)"
   ]
  },
  {
   "cell_type": "code",
   "execution_count": 16,
   "metadata": {},
   "outputs": [
    {
     "name": "stdout",
     "output_type": "stream",
     "text": [
      "\n",
      "name  = \"zarnian\"\n",
      " \"naz\" \n",
      "fname= MUhmamd Abid\n",
      "educaton= BS in SE \n",
      "age = 19\n",
      "\n"
     ]
    }
   ],
   "source": [
    "# F-string python \n",
    "card :str = f'''\n",
    "name  = {name}\n",
    "fname= {fname}\n",
    "educaton= {educaton}\n",
    "age = {age}\n",
    "'''\n",
    "print(card)"
   ]
  },
  {
   "cell_type": "code",
   "execution_count": null,
   "metadata": {},
   "outputs": [],
   "source": [
    "# F-string and jinja\n"
   ]
  }
 ],
 "metadata": {
  "kernelspec": {
   "display_name": "Python 3",
   "language": "python",
   "name": "python3"
  },
  "language_info": {
   "codemirror_mode": {
    "name": "ipython",
    "version": 3
   },
   "file_extension": ".py",
   "mimetype": "text/x-python",
   "name": "python",
   "nbconvert_exporter": "python",
   "pygments_lexer": "ipython3",
   "version": "3.12.0"
  }
 },
 "nbformat": 4,
 "nbformat_minor": 2
}
