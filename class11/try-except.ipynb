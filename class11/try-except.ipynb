{
 "cells": [
  {
   "cell_type": "code",
   "execution_count": 2,
   "metadata": {},
   "outputs": [
    {
     "name": "stdout",
     "output_type": "stream",
     "text": [
      "num1 is value is [3, 2, 32, 200]\n",
      "[3, 2, 32, 200]\n"
     ]
    }
   ],
   "source": [
    "a:list[int]=[3,2,32]\n",
    "def abc(num1:list[int])->None:\n",
    "    num1.append(200)\n",
    "    print(f\"num1 is value is {num1}\")\n",
    "abc(a) #pass by refrence mutuable data type\n",
    "print(a)"
   ]
  }
 ],
 "metadata": {
  "kernelspec": {
   "display_name": "python12",
   "language": "python",
   "name": "python3"
  },
  "language_info": {
   "codemirror_mode": {
    "name": "ipython",
    "version": 3
   },
   "file_extension": ".py",
   "mimetype": "text/x-python",
   "name": "python",
   "nbconvert_exporter": "python",
   "pygments_lexer": "ipython3",
   "version": "3.12.0"
  }
 },
 "nbformat": 4,
 "nbformat_minor": 2
}
