{
 "cells": [
  {
   "cell_type": "code",
   "execution_count": 7,
   "metadata": {},
   "outputs": [
    {
     "name": "stdout",
     "output_type": "stream",
     "text": [
      "some thing is wrong!\n",
      "name 'age' is not defined\n"
     ]
    }
   ],
   "source": [
    "try:\n",
    "    # print(li[200])\n",
    "    print(age)\n",
    "except Exception as e:\n",
    "    print(f\"some thing is wrong!\\n{e}\")"
   ]
  },
  {
   "cell_type": "code",
   "execution_count": 6,
   "metadata": {},
   "outputs": [
    {
     "name": "stdout",
     "output_type": "stream",
     "text": [
      "sara 1 20\n"
     ]
    }
   ],
   "source": [
    "# create error\n",
    "class StudentCard():\n",
    "    def __init__(self , roll_no:int , name:str , age:int) -> None:\n",
    "        if age<18 or age>60:\n",
    "             raise studentAgeError(\"you are not eligible for this program\")\n",
    "        self.roll_no=roll_no\n",
    "        self.name= name\n",
    "        self.age=age\n",
    "class studentAgeError(Exception): #custom error class\n",
    "        pass\n",
    "student1  =StudentCard(1,\"sara\" , 20)\n",
    "print(student1.name  , student1.roll_no , student1.age)  \n",
    "        \n",
    "        \n",
    "      "
   ]
  },
  {
   "cell_type": "code",
   "execution_count": 11,
   "metadata": {},
   "outputs": [
    {
     "ename": "NameError",
     "evalue": "name 'data' is not defined",
     "output_type": "error",
     "traceback": [
      "\u001b[1;31m---------------------------------------------------------------------------\u001b[0m",
      "\u001b[1;31mNameError\u001b[0m                                 Traceback (most recent call last)",
      "\u001b[1;32mc:\\Users\\Tesla Laptops\\OneDrive - Higher Education Commission\\python\\class11\\errorHandling.ipynb Cell 3\u001b[0m line \u001b[0;36m2\n\u001b[0;32m      <a href='vscode-notebook-cell:/c%3A/Users/Tesla%20Laptops/OneDrive%20-%20Higher%20Education%20Commission/python/class11/errorHandling.ipynb#W2sZmlsZQ%3D%3D?line=0'>1</a>\u001b[0m \u001b[39mfrom\u001b[39;00m \u001b[39mtyping\u001b[39;00m \u001b[39mimport\u001b[39;00m TextIO\n\u001b[1;32m----> <a href='vscode-notebook-cell:/c%3A/Users/Tesla%20Laptops/OneDrive%20-%20Higher%20Education%20Commission/python/class11/errorHandling.ipynb#W2sZmlsZQ%3D%3D?line=1'>2</a>\u001b[0m \u001b[39mtype\u001b[39m(data)\n",
      "\u001b[1;31mNameError\u001b[0m: name 'data' is not defined"
     ]
    }
   ],
   "source": [
    "from typing import TextIO\n",
    "type(data)\n"
   ]
  },
  {
   "cell_type": "code",
   "execution_count": 18,
   "metadata": {},
   "outputs": [
    {
     "name": "stdout",
     "output_type": "stream",
     "text": [
      "zarnain here...\n"
     ]
    }
   ],
   "source": [
    "from typing import TextIO\n",
    "data:TextIO= open(\"./abc.txt\")\n",
    "print(data.read())\n",
    "data.close()"
   ]
  },
  {
   "cell_type": "code",
   "execution_count": 26,
   "metadata": {},
   "outputs": [
    {
     "name": "stdout",
     "output_type": "stream",
     "text": [
      "<class '_io.TextIOWrapper'>\n",
      "zarnain here...\n",
      "  []\n"
     ]
    }
   ],
   "source": [
    "with open(\"./abc.txt\" , 'r') as file:\n",
    "   print(type(file))\n",
    "   print(file.read())\n",
    "   print(file.readline(),end=\"  \")\n",
    "   print(file.readlines()[:2]) "
   ]
  },
  {
   "cell_type": "code",
   "execution_count": 27,
   "metadata": {},
   "outputs": [
    {
     "name": "stdout",
     "output_type": "stream",
     "text": [
      "<class '_io.TextIOWrapper'>\n",
      "17\n"
     ]
    }
   ],
   "source": [
    "with open(\"./abc.txt\" , 'w') as file:\n",
    "   print(type(file))\n",
    "   print(file.write(\"pakistan zindabad\"))\n",
    "  "
   ]
  },
  {
   "cell_type": "code",
   "execution_count": 30,
   "metadata": {},
   "outputs": [],
   "source": [
    "# change mode\n",
    "with open(\"./abc1.txt\" , 'w') as file:\n",
    "   file.write(\"pakistan\")"
   ]
  }
 ],
 "metadata": {
  "kernelspec": {
   "display_name": "python12",
   "language": "python",
   "name": "python3"
  },
  "language_info": {
   "codemirror_mode": {
    "name": "ipython",
    "version": 3
   },
   "file_extension": ".py",
   "mimetype": "text/x-python",
   "name": "python",
   "nbconvert_exporter": "python",
   "pygments_lexer": "ipython3",
   "version": "3.12.0"
  }
 },
 "nbformat": 4,
 "nbformat_minor": 2
}
