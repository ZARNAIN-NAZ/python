{
 "cells": [
  {
   "cell_type": "code",
   "execution_count": 1,
   "metadata": {},
   "outputs": [],
   "source": [
    "class Teacher():\n",
    "    def __init__(self ,teacher_id:int , teacher_name:str) -> None:\n",
    "        self.name:str=teacher_name\n",
    "        self.tid=teacher_id\n",
    "        self.organization_name='PIAIC'\n",
    "\n",
    "    def speak(self,words:str):\n",
    "        print(f\"{self.name} is speaking {words}\")\n",
    "    def teaching(self,subject:str):\n",
    "        print(f\"{self.name} is teaching{subject}\")\n",
    "        \n",
    "        \n",
    "        pass"
   ]
  },
  {
   "cell_type": "code",
   "execution_count": 2,
   "metadata": {},
   "outputs": [],
   "source": [
    "# \n",
    "obj1:Teacher  = Teacher(1,\"mano\")\n",
    "obj2:Teacher=Teacher(2,\"alina\")\n",
    "\n"
   ]
  },
  {
   "cell_type": "code",
   "execution_count": 3,
   "metadata": {},
   "outputs": [
    {
     "data": {
      "text/plain": [
       "['__class__',\n",
       " '__delattr__',\n",
       " '__dict__',\n",
       " '__dir__',\n",
       " '__doc__',\n",
       " '__eq__',\n",
       " '__format__',\n",
       " '__ge__',\n",
       " '__getattribute__',\n",
       " '__getstate__',\n",
       " '__gt__',\n",
       " '__hash__',\n",
       " '__init__',\n",
       " '__init_subclass__',\n",
       " '__le__',\n",
       " '__lt__',\n",
       " '__module__',\n",
       " '__ne__',\n",
       " '__new__',\n",
       " '__reduce__',\n",
       " '__reduce_ex__',\n",
       " '__repr__',\n",
       " '__setattr__',\n",
       " '__sizeof__',\n",
       " '__str__',\n",
       " '__subclasshook__',\n",
       " '__weakref__',\n",
       " 'name',\n",
       " 'organization_name',\n",
       " 'speak',\n",
       " 'teaching',\n",
       " 'tid']"
      ]
     },
     "execution_count": 3,
     "metadata": {},
     "output_type": "execute_result"
    }
   ],
   "source": [
    "dir(obj1)"
   ]
  },
  {
   "cell_type": "code",
   "execution_count": 4,
   "metadata": {},
   "outputs": [
    {
     "name": "stdout",
     "output_type": "stream",
     "text": [
      "mano\n"
     ]
    }
   ],
   "source": [
    "print(obj1.name)"
   ]
  },
  {
   "cell_type": "code",
   "execution_count": 9,
   "metadata": {},
   "outputs": [
    {
     "name": "stdout",
     "output_type": "stream",
     "text": [
      "brown\n",
      "black\n",
      "parent methhod speaks:{words}\n",
      "u ar lookingLAPTOp\n",
      "brown\n",
      "black\n",
      "parent methhod speaks:{words}\n",
      "u ar lookingLAPTOp\n"
     ]
    }
   ],
   "source": [
    "# inheritance\n",
    "class Parents():\n",
    "    def __init__(self) -> None:\n",
    "        self.eye_color:str=\"brown\"\n",
    "        self.hair_color:str=\"black\"\n",
    "    def speak(self,words:str)->None:\n",
    "        print(\"parent methhod speaks:{words}\")\n",
    "    def watch(self,object_name:str)->None:\n",
    "        print(f\"u ar looking{object_name}\")\n",
    "\n",
    "class Childs(Parents):\n",
    "    pass\n",
    "obj1:Parents=Parents()\n",
    "print(obj1.eye_color)\n",
    "print(obj1.hair_color)\n",
    "obj1.speak(\"pakistan zindabad\")\n",
    "obj1.watch(\"LAPTOp\")\n",
    "\n",
    "obj2:Childs=Childs()\n",
    "print(obj1.eye_color)\n",
    "print(obj1.hair_color)\n",
    "obj1.speak(\"pakistan zindabad\")\n",
    "obj1.watch(\"LAPTOp\")\n"
   ]
  },
  {
   "cell_type": "code",
   "execution_count": 13,
   "metadata": {},
   "outputs": [
    {
     "ename": "TypeError",
     "evalue": "Designer.__init__() takes 1 positional argument but 2 were given",
     "output_type": "error",
     "traceback": [
      "\u001b[1;31m---------------------------------------------------------------------------\u001b[0m",
      "\u001b[1;31mTypeError\u001b[0m                                 Traceback (most recent call last)",
      "\u001b[1;32mc:\\Users\\Tesla Laptops\\OneDrive - Higher Education Commission\\python\\class11\\oop.ipynb Cell 6\u001b[0m line \u001b[0;36m1\n\u001b[0;32m     <a href='vscode-notebook-cell:/c%3A/Users/Tesla%20Laptops/OneDrive%20-%20Higher%20Education%20Commission/python/class11/oop.ipynb#W5sZmlsZQ%3D%3D?line=11'>12</a>\u001b[0m         \u001b[39msuper\u001b[39m()\u001b[39m.\u001b[39m\u001b[39m__init__\u001b[39m()\n\u001b[0;32m     <a href='vscode-notebook-cell:/c%3A/Users/Tesla%20Laptops/OneDrive%20-%20Higher%20Education%20Commission/python/class11/oop.ipynb#W5sZmlsZQ%3D%3D?line=12'>13</a>\u001b[0m         \u001b[39mself\u001b[39m\u001b[39m.\u001b[39mprogramming_skills:\u001b[39mlist\u001b[39m(\u001b[39mstr\u001b[39m)\u001b[39m=\u001b[39m[\u001b[39m'\u001b[39m\u001b[39mpython\u001b[39m\u001b[39m'\u001b[39m]\n\u001b[1;32m---> <a href='vscode-notebook-cell:/c%3A/Users/Tesla%20Laptops/OneDrive%20-%20Higher%20Education%20Commission/python/class11/oop.ipynb#W5sZmlsZQ%3D%3D?line=14'>15</a>\u001b[0m designer1 : Designer \u001b[39m=\u001b[39m Designer(\u001b[39m\"\u001b[39;49m\u001b[39martist\u001b[39;49m\u001b[39m\"\u001b[39;49m)\n\u001b[0;32m     <a href='vscode-notebook-cell:/c%3A/Users/Tesla%20Laptops/OneDrive%20-%20Higher%20Education%20Commission/python/class11/oop.ipynb#W5sZmlsZQ%3D%3D?line=15'>16</a>\u001b[0m dev1:Developer\u001b[39m=\u001b[39mDeveloper(\u001b[39m\"\u001b[39m\u001b[39mjavascript developer\u001b[39m\u001b[39m\"\u001b[39m)\n\u001b[0;32m     <a href='vscode-notebook-cell:/c%3A/Users/Tesla%20Laptops/OneDrive%20-%20Higher%20Education%20Commission/python/class11/oop.ipynb#W5sZmlsZQ%3D%3D?line=17'>18</a>\u001b[0m \u001b[39mprint\u001b[39m(designer1\u001b[39m.\u001b[39mdepartment)\n",
      "\u001b[1;31mTypeError\u001b[0m: Designer.__init__() takes 1 positional argument but 2 were given"
     ]
    }
   ],
   "source": [
    "class Employee():\n",
    "    def __init__(self)->None:\n",
    "        self.name=str=''\n",
    "        self.education:str=''\n",
    "        self.department:str=''\n",
    "class Designer(Employee):\n",
    "    def __init__(self) -> None:\n",
    "        super().__init__()\n",
    "        self.title:str =title\n",
    "class Developer(Employee):\n",
    "    def __init__(self) -> None:\n",
    "        super().__init__()\n",
    "        self.programming_skills:list(str)=['python']\n",
    "\n",
    "designer1 : Designer = Designer(\"artist\")\n",
    "dev1:Developer=Developer(\"javascript developer\")\n",
    "\n",
    "print(designer1.department)\n",
    "print(dev1.programming_skills)"
   ]
  }
 ],
 "metadata": {
  "kernelspec": {
   "display_name": "python12",
   "language": "python",
   "name": "python3"
  },
  "language_info": {
   "codemirror_mode": {
    "name": "ipython",
    "version": 3
   },
   "file_extension": ".py",
   "mimetype": "text/x-python",
   "name": "python",
   "nbconvert_exporter": "python",
   "pygments_lexer": "ipython3",
   "version": "3.12.0"
  }
 },
 "nbformat": 4,
 "nbformat_minor": 2
}
