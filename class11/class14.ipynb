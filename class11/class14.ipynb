{
 "cells": [
  {
   "cell_type": "code",
   "execution_count": 9,
   "metadata": {},
   "outputs": [
    {
     "name": "stdout",
     "output_type": "stream",
     "text": [
      "object hieght6feet\n",
      "object eye colorblue\n"
     ]
    },
    {
     "data": {
      "text/plain": [
       "'mother speaking function'"
      ]
     },
     "execution_count": 9,
     "metadata": {},
     "output_type": "execute_result"
    }
   ],
   "source": [
    "class Mother():\n",
    "    def __init__(self,name:str) -> None:\n",
    "        self.name:str=name\n",
    "        self.eye_color:str=\"blue\"\n",
    "    def speaking(self,words :str)->str:\n",
    "        return \"mother speaking function\"\n",
    "class Father():\n",
    "    def __init__(self ,name:str) -> None:\n",
    "        self.name:str=name\n",
    "        self.height:str='6feet'\n",
    "\n",
    "class Child(Mother ,Father):\n",
    "    def __init__(self, mother_name: str , father_name:str , child_name:str) -> None:\n",
    "        Mother.__init__(self,mother_name)\n",
    "        Father.__init__(self,father_name)\n",
    "        self.child_name:str=child_name\n",
    "qasim  : Child=Child(\"asma\" , \"sdsds\" , \"sadas\")\n",
    "print(f\"object hieght{qasim.height}\")\n",
    "print(f\"object eye color{qasim.eye_color}\")\n",
    "qasim.speaking(\"pakistan zindabad\")"
   ]
  },
  {
   "cell_type": "code",
   "execution_count": 11,
   "metadata": {},
   "outputs": [
    {
     "name": "stdout",
     "output_type": "stream",
     "text": [
      "<__main__.Adder object at 0x000002A9EACE4380>\n"
     ]
    },
    {
     "ename": "AttributeError",
     "evalue": "'NoneType' object has no attribute 'add'",
     "output_type": "error",
     "traceback": [
      "\u001b[1;31m---------------------------------------------------------------------------\u001b[0m",
      "\u001b[1;31mAttributeError\u001b[0m                            Traceback (most recent call last)",
      "\u001b[1;32mc:\\Users\\Tesla Laptops\\OneDrive - Higher Education Commission\\python\\class11\\class14.ipynb Cell 2\u001b[0m line \u001b[0;36m9\n\u001b[0;32m      <a href='vscode-notebook-cell:/c%3A/Users/Tesla%20Laptops/OneDrive%20-%20Higher%20Education%20Commission/python/class11/class14.ipynb#W1sZmlsZQ%3D%3D?line=6'>7</a>\u001b[0m      \u001b[39mreturn\u001b[39;00m x\u001b[39m+\u001b[39my  \n\u001b[0;32m      <a href='vscode-notebook-cell:/c%3A/Users/Tesla%20Laptops/OneDrive%20-%20Higher%20Education%20Commission/python/class11/class14.ipynb#W1sZmlsZQ%3D%3D?line=7'>8</a>\u001b[0m obj:Adder \u001b[39m=\u001b[39mAdder()\n\u001b[1;32m----> <a href='vscode-notebook-cell:/c%3A/Users/Tesla%20Laptops/OneDrive%20-%20Higher%20Education%20Commission/python/class11/class14.ipynb#W1sZmlsZQ%3D%3D?line=8'>9</a>\u001b[0m \u001b[39mprint\u001b[39;49m(obj)\u001b[39m.\u001b[39;49madd(\u001b[39m2.3\u001b[39m,\u001b[39m2.3\u001b[39m)\n\u001b[0;32m     <a href='vscode-notebook-cell:/c%3A/Users/Tesla%20Laptops/OneDrive%20-%20Higher%20Education%20Commission/python/class11/class14.ipynb#W1sZmlsZQ%3D%3D?line=9'>10</a>\u001b[0m \u001b[39mprint\u001b[39m(obj)\u001b[39m.\u001b[39madd1(\u001b[39m2\u001b[39m,\u001b[39m3\u001b[39m)  \n",
      "\u001b[1;31mAttributeError\u001b[0m: 'NoneType' object has no attribute 'add'"
     ]
    }
   ],
   "source": [
    "from ast import Add\n",
    "class Adder():\n",
    "    def add1(self ,x:int,y:int)->int:\n",
    "     return x+y\n",
    "\n",
    "    def add(self ,x:float,y:float)->float:\n",
    "     return x+y  \n",
    "obj:Adder =Adder()\n",
    "print(obj).add(2.3,2.3)\n",
    "print(obj).add1(2,3)  "
   ]
  },
  {
   "cell_type": "code",
   "execution_count": 12,
   "metadata": {},
   "outputs": [
    {
     "name": "stdout",
     "output_type": "stream",
     "text": [
      "20\n",
      "1008\n"
     ]
    }
   ],
   "source": [
    "def my_sum(*nums:int)->int:\n",
    "    total:int=0\n",
    "    for i in nums:\n",
    "        total+=i\n",
    "    return total\n",
    "print(my_sum(5,7,8))\n",
    "print(my_sum(8,8,8,88,8,888))\n"
   ]
  },
  {
   "cell_type": "code",
   "execution_count": 16,
   "metadata": {},
   "outputs": [
    {
     "name": "stdout",
     "output_type": "stream",
     "text": [
      "bird is eating bread\n",
      "animal is eatinggrass\n",
      "bird is eating grass\n"
     ]
    }
   ],
   "source": [
    "# overriding and polymorphism\n",
    "class Animal():\n",
    "    def eating(self,food:str )->None:\n",
    "        print(f\"animal is eating{food}\")\n",
    "class Bird():\n",
    "    def eating(self,food:str)->None:\n",
    "        print(f\"bird is eating {food}\")\n",
    "bird:Bird=Bird()\n",
    "bird.eating(\"bread\")\n",
    "\n",
    "animal:Animal=Animal()\n",
    "animal.eating(\"grass\")\n",
    "\n",
    "animal:Animal=Bird()\n",
    "animal.eating(\"grass\")"
   ]
  },
  {
   "cell_type": "code",
   "execution_count": null,
   "metadata": {},
   "outputs": [],
   "source": [
    "\n"
   ]
  }
 ],
 "metadata": {
  "kernelspec": {
   "display_name": "python12",
   "language": "python",
   "name": "python3"
  },
  "language_info": {
   "name": "python",
   "version": "3.12.0"
  }
 },
 "nbformat": 4,
 "nbformat_minor": 2
}
