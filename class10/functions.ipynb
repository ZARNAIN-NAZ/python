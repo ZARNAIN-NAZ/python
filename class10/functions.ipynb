{
 "cells": [
  {
   "cell_type": "code",
   "execution_count": null,
   "metadata": {},
   "outputs": [],
   "source": [
    "#"
   ]
  },
  {
   "cell_type": "markdown",
   "metadata": {},
   "source": [
    "#function\n",
    "*pre defined function\n",
    "    provided by in languauge\n",
    "*user defined function\n",
    "    custom function\n",
    "similar properties \n",
    "*return and non-return function\n",
    "    *return\n",
    "    *we can assign this function output in variable\n",
    "    *non_return\n",
    "    *only run we cant assign value to variable\n",
    "\n",
    "\n",
    "\n",
    "<!-- component -->\n",
    "*function declaration\n",
    "*function body\n",
    "*function calling\n",
    "\n",
    "<!-- syntax function -->\n",
    "def function_name(param1:type , param2:type,...)->Return_Type\n",
    "    function_body\n",
    "function_nmae(arg1,arg2)\n"
   ]
  },
  {
   "cell_type": "markdown",
   "metadata": {},
   "source": [
    "return & non return "
   ]
  },
  {
   "cell_type": "code",
   "execution_count": 1,
   "metadata": {},
   "outputs": [
    {
     "name": "stdout",
     "output_type": "stream",
     "text": [
      "pakistan\n"
     ]
    },
    {
     "data": {
      "text/plain": [
       "None"
      ]
     },
     "metadata": {},
     "output_type": "display_data"
    }
   ],
   "source": [
    "# pre deifned function\n",
    "# print\n",
    "# len\n",
    "# id\n",
    "# dir\n",
    "# exec\n",
    "\n",
    "a:str = print(\"pakistan\") #print is non_return function\n",
    "display(a)\n"
   ]
  },
  {
   "cell_type": "code",
   "execution_count": 2,
   "metadata": {},
   "outputs": [
    {
     "data": {
      "text/plain": [
       "8"
      ]
     },
     "metadata": {},
     "output_type": "display_data"
    }
   ],
   "source": [
    "a:int=len(\"pakistan\")\n",
    "display(a) #return type len "
   ]
  },
  {
   "cell_type": "markdown",
   "metadata": {},
   "source": [
    "\n",
    "## components\n",
    "function declaration\n",
    "    function name\n",
    "    parameters\n",
    "        param:type\n",
    "        return output type\n",
    "function body\n",
    "    any bussiness logic\n",
    "function calling\n",
    "    function(arg1 ,arg2)\n",
    "    "
   ]
  },
  {
   "cell_type": "code",
   "execution_count": 7,
   "metadata": {},
   "outputs": [
    {
     "name": "stdout",
     "output_type": "stream",
     "text": [
      "zarnain here\n",
      "python crash course\n"
     ]
    }
   ],
   "source": [
    "# create simple function without any argument(defalult function)\n",
    "def piaic()->None: #declaration\n",
    "    # function body\n",
    "    print(\"zarnain here\") #statement1\n",
    "    print(\"python crash course\")  #statement2\n",
    "\n",
    "    # function\n",
    "    \n",
    "piaic()\n"
   ]
  },
  {
   "cell_type": "code",
   "execution_count": 8,
   "metadata": {},
   "outputs": [
    {
     "data": {
      "text/plain": [
       "7"
      ]
     },
     "execution_count": 8,
     "metadata": {},
     "output_type": "execute_result"
    }
   ],
   "source": [
    "def add_two_numbers(num1:int , num2:int)->int:\n",
    "    return num1+num2\n",
    "add_two_numbers(4,3)"
   ]
  },
  {
   "cell_type": "markdown",
   "metadata": {},
   "source": [
    "lambda function\n",
    "one line function\n",
    "without name anonymous\n",
    "only use in this line\n",
    "lambda param1,param2:function_body\n"
   ]
  },
  {
   "cell_type": "code",
   "execution_count": 9,
   "metadata": {},
   "outputs": [
    {
     "data": {
      "text/plain": [
       "46"
      ]
     },
     "execution_count": 9,
     "metadata": {},
     "output_type": "execute_result"
    }
   ],
   "source": [
    "a=lambda num1,num2: num1 + num2\n",
    "a(3,43)"
   ]
  },
  {
   "cell_type": "code",
   "execution_count": 11,
   "metadata": {},
   "outputs": [
    {
     "data": {
      "text/plain": [
       "[2, 232]"
      ]
     },
     "execution_count": 11,
     "metadata": {},
     "output_type": "execute_result"
    }
   ],
   "source": [
    "data:list[int]=[3,2,3,23,232]\n",
    "data=list(filter(lambda x:x%2==0 ,data))\n",
    "data"
   ]
  },
  {
   "cell_type": "code",
   "execution_count": 13,
   "metadata": {},
   "outputs": [],
   "source": [
    "# genrator funciton\n",
    "def my_range(start:int ,end:int , step:int=1):\n",
    "    for i in range(start,end+1,step):\n",
    "        yield i\n",
    "a=my_range[1,20]\n",
    "print(a)\n",
    "print(list(a))"
   ]
  },
  {
   "cell_type": "code",
   "execution_count": 15,
   "metadata": {},
   "outputs": [
    {
     "name": "stdout",
     "output_type": "stream",
     "text": [
      "(1, 2, 3, 2, 2, 32) <class 'tuple'>\n"
     ]
    },
    {
     "data": {
      "text/plain": [
       "42"
      ]
     },
     "execution_count": 15,
     "metadata": {},
     "output_type": "execute_result"
    }
   ],
   "source": [
    "def abc(*nums):\n",
    "    print(nums ,type(nums))\n",
    "    total=0\n",
    "    for n in nums:\n",
    "        total+=n\n",
    "    return total\n",
    "abc(1,2,3,2,2,32)\n"
   ]
  },
  {
   "cell_type": "code",
   "execution_count": 16,
   "metadata": {},
   "outputs": [
    {
     "ename": "TypeError",
     "evalue": "abc() takes 0 positional arguments but 6 were given",
     "output_type": "error",
     "traceback": [
      "\u001b[1;31m---------------------------------------------------------------------------\u001b[0m",
      "\u001b[1;31mTypeError\u001b[0m                                 Traceback (most recent call last)",
      "\u001b[1;32mc:\\Users\\Tesla Laptops\\OneDrive - Higher Education Commission\\python\\class10\\functions.ipynb Cell 14\u001b[0m line \u001b[0;36m7\n\u001b[0;32m      <a href='vscode-notebook-cell:/c%3A/Users/Tesla%20Laptops/OneDrive%20-%20Higher%20Education%20Commission/python/class10/functions.ipynb#X23sZmlsZQ%3D%3D?line=4'>5</a>\u001b[0m         total\u001b[39m+\u001b[39m\u001b[39m=\u001b[39mn\n\u001b[0;32m      <a href='vscode-notebook-cell:/c%3A/Users/Tesla%20Laptops/OneDrive%20-%20Higher%20Education%20Commission/python/class10/functions.ipynb#X23sZmlsZQ%3D%3D?line=5'>6</a>\u001b[0m     \u001b[39mreturn\u001b[39;00m total\n\u001b[1;32m----> <a href='vscode-notebook-cell:/c%3A/Users/Tesla%20Laptops/OneDrive%20-%20Higher%20Education%20Commission/python/class10/functions.ipynb#X23sZmlsZQ%3D%3D?line=6'>7</a>\u001b[0m abc(\u001b[39m1\u001b[39;49m,\u001b[39m2\u001b[39;49m,\u001b[39m3\u001b[39;49m,\u001b[39m2\u001b[39;49m,\u001b[39m2\u001b[39;49m,\u001b[39m32\u001b[39;49m)\n",
      "\u001b[1;31mTypeError\u001b[0m: abc() takes 0 positional arguments but 6 were given"
     ]
    }
   ],
   "source": [
    "def abc(**nums):\n",
    "    print(nums ,type(nums))\n",
    "    total=0\n",
    "    for n in nums:\n",
    "        total+=n\n",
    "    return total\n",
    "abc(1,2,3,2,2,32)\n"
   ]
  },
  {
   "cell_type": "code",
   "execution_count": 17,
   "metadata": {},
   "outputs": [
    {
     "ename": "SyntaxError",
     "evalue": "invalid syntax (1510305381.py, line 8)",
     "output_type": "error",
     "traceback": [
      "\u001b[1;36m  Cell \u001b[1;32mIn[17], line 8\u001b[1;36m\u001b[0m\n\u001b[1;33m    (function) def my_decorator(func:()->None)->(()->None)\u001b[0m\n\u001b[1;37m               ^\u001b[0m\n\u001b[1;31mSyntaxError\u001b[0m\u001b[1;31m:\u001b[0m invalid syntax\n"
     ]
    }
   ],
   "source": [
    "from typing import Callable\n",
    "\n",
    "def my_decorator(func:Callable[[],None])->Callable[[],None]:\n",
    "    def wrapper():\n",
    "        print(\"something is happening before the function is called\")\n",
    "        func()\n",
    "        print(\"something is happening after the function is called\")\n",
    "    (function) def my_decorator(func: ()->None)->(()->None)\n",
    "@my_decorator\n",
    "def say_hello():\n",
    "        print(\"hello\")\n",
    "say_hello()\n",
    "# error-------------------------------------------------------\n",
    "        \n",
    "\n",
    "                 "
   ]
  }
 ],
 "metadata": {
  "kernelspec": {
   "display_name": "python12",
   "language": "python",
   "name": "python3"
  },
  "language_info": {
   "codemirror_mode": {
    "name": "ipython",
    "version": 3
   },
   "file_extension": ".py",
   "mimetype": "text/x-python",
   "name": "python",
   "nbconvert_exporter": "python",
   "pygments_lexer": "ipython3",
   "version": "3.12.0"
  }
 },
 "nbformat": 4,
 "nbformat_minor": 2
}
