{
 "cells": [
  {
   "cell_type": "code",
   "execution_count": 1,
   "metadata": {},
   "outputs": [
    {
     "name": "stdout",
     "output_type": "stream",
     "text": [
      "['alina', ',murtaza', 'hamza']\n"
     ]
    }
   ],
   "source": [
    "# eg of list\n",
    "data:list[str]=[\"alina\" ,\",murtaza\" , \"hamza\"]\n",
    "print(data)"
   ]
  },
  {
   "cell_type": "markdown",
   "metadata": {},
   "source": [
    "dictionary\n",
    " *key:value(items)\n",
    "    *key replacemnet of indexes\n",
    "    *value item\n",
    "*dict_var[key]\n",
    "    *dict_var[new_key]=new_value\n",
    "    *add new value\n",
    "    *update value\n",
    "    "
   ]
  },
  {
   "cell_type": "code",
   "execution_count": 17,
   "metadata": {},
   "outputs": [
    {
     "ename": "TypeError",
     "evalue": "unhashable type: 'list'",
     "output_type": "error",
     "traceback": [
      "\u001b[1;31m---------------------------------------------------------------------------\u001b[0m",
      "\u001b[1;31mTypeError\u001b[0m                                 Traceback (most recent call last)",
      "\u001b[1;32mc:\\Users\\Tesla Laptops\\OneDrive - Higher Education Commission\\python\\class7\\dictionarySetTuple.ipynb Cell 3\u001b[0m line \u001b[0;36m1\n\u001b[0;32m      <a href='vscode-notebook-cell:/c%3A/Users/Tesla%20Laptops/OneDrive%20-%20Higher%20Education%20Commission/python/class7/dictionarySetTuple.ipynb#W1sZmlsZQ%3D%3D?line=4'>5</a>\u001b[0m Value \u001b[39m=\u001b[39m Union[\u001b[39mint\u001b[39m , \u001b[39mstr\u001b[39m, \u001b[39mlist\u001b[39m ,\u001b[39mdict\u001b[39m,\u001b[39mtuple\u001b[39m,\u001b[39mset\u001b[39m]\n\u001b[0;32m      <a href='vscode-notebook-cell:/c%3A/Users/Tesla%20Laptops/OneDrive%20-%20Higher%20Education%20Commission/python/class7/dictionarySetTuple.ipynb#W1sZmlsZQ%3D%3D?line=7'>8</a>\u001b[0m \u001b[39m#         key value\u001b[39;00m\n\u001b[0;32m      <a href='vscode-notebook-cell:/c%3A/Users/Tesla%20Laptops/OneDrive%20-%20Higher%20Education%20Commission/python/class7/dictionarySetTuple.ipynb#W1sZmlsZQ%3D%3D?line=8'>9</a>\u001b[0m data:Dict[Key ,Value] \u001b[39m=\u001b[39m {\u001b[39m\"\u001b[39m\u001b[39mfname\u001b[39m\u001b[39m\"\u001b[39m:\u001b[39m\"\u001b[39m\u001b[39malina\u001b[39m\u001b[39m\"\u001b[39m ,\n\u001b[0;32m     <a href='vscode-notebook-cell:/c%3A/Users/Tesla%20Laptops/OneDrive%20-%20Higher%20Education%20Commission/python/class7/dictionarySetTuple.ipynb#W1sZmlsZQ%3D%3D?line=9'>10</a>\u001b[0m                       \u001b[39m2\u001b[39m:\u001b[39m\"\u001b[39m\u001b[39mhania\u001b[39m\u001b[39m\"\u001b[39m,\n\u001b[0;32m     <a href='vscode-notebook-cell:/c%3A/Users/Tesla%20Laptops/OneDrive%20-%20Higher%20Education%20Commission/python/class7/dictionarySetTuple.ipynb#W1sZmlsZQ%3D%3D?line=10'>11</a>\u001b[0m                        \u001b[39m\"\u001b[39m\u001b[39mlastName\u001b[39m\u001b[39m\"\u001b[39m: \u001b[39m\"\u001b[39m\u001b[39mmahira\u001b[39m\u001b[39m\"\u001b[39m,\n\u001b[1;32m---> <a href='vscode-notebook-cell:/c%3A/Users/Tesla%20Laptops/OneDrive%20-%20Higher%20Education%20Commission/python/class7/dictionarySetTuple.ipynb#W1sZmlsZQ%3D%3D?line=11'>12</a>\u001b[0m                        \u001b[39m3\u001b[39m:{\u001b[39m\"\u001b[39m\u001b[39maasd\u001b[39m\u001b[39m\"\u001b[39m,{\u001b[39m3\u001b[39m,[\u001b[39m34\u001b[39m,\u001b[39m34\u001b[39m]}}\n\u001b[0;32m     <a href='vscode-notebook-cell:/c%3A/Users/Tesla%20Laptops/OneDrive%20-%20Higher%20Education%20Commission/python/class7/dictionarySetTuple.ipynb#W1sZmlsZQ%3D%3D?line=12'>13</a>\u001b[0m                        }\n\u001b[0;32m     <a href='vscode-notebook-cell:/c%3A/Users/Tesla%20Laptops/OneDrive%20-%20Higher%20Education%20Commission/python/class7/dictionarySetTuple.ipynb#W1sZmlsZQ%3D%3D?line=13'>14</a>\u001b[0m \u001b[39m# display(data)\u001b[39;00m\n\u001b[0;32m     <a href='vscode-notebook-cell:/c%3A/Users/Tesla%20Laptops/OneDrive%20-%20Higher%20Education%20Commission/python/class7/dictionarySetTuple.ipynb#W1sZmlsZQ%3D%3D?line=14'>15</a>\u001b[0m pprint\u001b[39m.\u001b[39mpprint(data[\u001b[39m2\u001b[39m]) \u001b[39m#index=key\u001b[39;00m\n",
      "\u001b[1;31mTypeError\u001b[0m: unhashable type: 'list'"
     ]
    }
   ],
   "source": [
    "from typing import Dict , Union , Optional\n",
    "import pprint\n",
    "\n",
    "Key=Union[int,str] #create custom type\n",
    "Value = Union[int , str, list ,dict,tuple,set]\n",
    "\n",
    "\n",
    "#         key value\n",
    "data:Dict[Key ,Value] = {\"fname\":\"alina\" ,\n",
    "                      2:\"hania\",\n",
    "                       \"lastName\": \"mahira\",\n",
    "                       3:{\"aasd\",{3,[34,34]}}\n",
    "                       }\n",
    "# display(data)\n",
    "pprint.pprint(data[2]) #index=key\n",
    "pprint.pprint(data[\"lastName\"])\n",
    "\n",
    "# pkg   function \n",
    "# list in unhashable cant store in key \n",
    "# in value we can assign any datattype without any restriction\n",
    "\n"
   ]
  },
  {
   "cell_type": "code",
   "execution_count": null,
   "metadata": {},
   "outputs": [],
   "source": [
    "from typing import Dict , Union , Optional\n",
    "import pprint\n",
    "\n",
    "Key=Union[int,str] #create custom type\n",
    "Value = Union[int , str, list ,dict,tuple,set]\n",
    "\n",
    "\n",
    "#         key value\n",
    "data:Dict[Key ,Value] = {\"fname\":\"alina\" ,\n",
    "                      2:\"hania\",\n",
    "                       \"lastName\": \"mahira\",\n",
    "                    #    {1,2,3} =\"haya\" #error\n",
    "                    #    2={232,2,32} #true \n",
    "                       (2,3,2,) = \"pakistan\" #error\n",
    "                       }\n",
    "# display(data)\n",
    "pprint.pprint(data[2]) #index=key\n",
    "pprint.pprint(data[\"lastName\"])"
   ]
  },
  {
   "cell_type": "code",
   "execution_count": 15,
   "metadata": {},
   "outputs": [
    {
     "name": "stdout",
     "output_type": "stream",
     "text": [
      "{2, 3, 4, 54, 23}\n"
     ]
    }
   ],
   "source": [
    "# set datatype\n",
    "data:set={3,2,3,23,4,4,54}\n",
    "print(data) #return unique"
   ]
  },
  {
   "cell_type": "code",
   "execution_count": null,
   "metadata": {},
   "outputs": [],
   "source": [
    "abc:set={2,3,43,43}"
   ]
  },
  {
   "cell_type": "code",
   "execution_count": 28,
   "metadata": {},
   "outputs": [
    {
     "name": "stdout",
     "output_type": "stream",
     "text": [
      "{'name': 'halima', 'fname': 'raniya'}\n",
      "halima\n",
      "{'name': 'halima', 'fname': 'raniya'}\n",
      "{'name': 'halima', 'fname': 'raniya'}\n",
      "dict_keys(['name', 'fname'])\n",
      "dict_values(['halima', 'raniya'])\n",
      "dict_items([('name', 'halima'), ('fname', 'raniya')])\n",
      "halima\n",
      "raniya\n"
     ]
    }
   ],
   "source": [
    "from typing import Dict ,Union ,Optional\n",
    "import pprint\n",
    "\n",
    "Key =Union[int , str]\n",
    "Value = Union[int,str,list, dict,set]\n",
    "\n",
    "data:dict[Key,Value]={}\n",
    "\n",
    "data['name']=\"halima\"\n",
    "data['fname']='raniya'\n",
    "print(data)\n",
    "print(data.get(\"name\",\"NA\"))\n",
    "for d in data:\n",
    "    print(data)\n",
    "print(data.keys())\n",
    "print(data.values())\n",
    "print(data.items())\n",
    "for v in data.values():\n",
    "    print(v)\n",
    " "
   ]
  },
  {
   "cell_type": "code",
   "execution_count": 29,
   "metadata": {},
   "outputs": [
    {
     "name": "stdout",
     "output_type": "stream",
     "text": [
      "8 9\n"
     ]
    }
   ],
   "source": [
    "a: int= 9\n",
    "b:int =8\n",
    "a,b = b,a \n",
    "print(a,b)\n"
   ]
  },
  {
   "cell_type": "code",
   "execution_count": 1,
   "metadata": {},
   "outputs": [
    {
     "ename": "NameError",
     "evalue": "name 'Key' is not defined",
     "output_type": "error",
     "traceback": [
      "\u001b[1;31m---------------------------------------------------------------------------\u001b[0m",
      "\u001b[1;31mNameError\u001b[0m                                 Traceback (most recent call last)",
      "\u001b[1;32mc:\\Users\\Tesla Laptops\\OneDrive - Higher Education Commission\\python\\class7\\dictionarySetTuple.ipynb Cell 9\u001b[0m line \u001b[0;36m2\n\u001b[0;32m      <a href='vscode-notebook-cell:/c%3A/Users/Tesla%20Laptops/OneDrive%20-%20Higher%20Education%20Commission/python/class7/dictionarySetTuple.ipynb#X11sZmlsZQ%3D%3D?line=0'>1</a>\u001b[0m leys:\u001b[39mlist\u001b[39m[\u001b[39mstr\u001b[39m] \u001b[39m=\u001b[39m{\u001b[39m\"\u001b[39m\u001b[39mid\u001b[39m\u001b[39m\"\u001b[39m ,\u001b[39m\"\u001b[39m\u001b[39mname\u001b[39m\u001b[39m\"\u001b[39m,\u001b[39m\"\u001b[39m\u001b[39mcourse\u001b[39m\u001b[39m\"\u001b[39m}\n\u001b[1;32m----> <a href='vscode-notebook-cell:/c%3A/Users/Tesla%20Laptops/OneDrive%20-%20Higher%20Education%20Commission/python/class7/dictionarySetTuple.ipynb#X11sZmlsZQ%3D%3D?line=1'>2</a>\u001b[0m data:\u001b[39mdict\u001b[39m[Key,Value] \u001b[39m=\u001b[39m{}\n\u001b[0;32m      <a href='vscode-notebook-cell:/c%3A/Users/Tesla%20Laptops/OneDrive%20-%20Higher%20Education%20Commission/python/class7/dictionarySetTuple.ipynb#X11sZmlsZQ%3D%3D?line=2'>3</a>\u001b[0m \u001b[39mprint\u001b[39m(data)\n\u001b[0;32m      <a href='vscode-notebook-cell:/c%3A/Users/Tesla%20Laptops/OneDrive%20-%20Higher%20Education%20Commission/python/class7/dictionarySetTuple.ipynb#X11sZmlsZQ%3D%3D?line=3'>4</a>\u001b[0m \u001b[39m# data=data.fromkeys(keys)\u001b[39;00m\n\u001b[0;32m      <a href='vscode-notebook-cell:/c%3A/Users/Tesla%20Laptops/OneDrive%20-%20Higher%20Education%20Commission/python/class7/dictionarySetTuple.ipynb#X11sZmlsZQ%3D%3D?line=4'>5</a>\u001b[0m \u001b[39m# print(data)\u001b[39;00m\n",
      "\u001b[1;31mNameError\u001b[0m: name 'Key' is not defined"
     ]
    }
   ],
   "source": [
    "leys:list[str] ={\"id\" ,\"name\",\"course\"}\n",
    "data:dict[Key,Value] ={}\n",
    "print(data)\n",
    "# data=data.fromkeys(keys)\n",
    "# print(data)"
   ]
  }
 ],
 "metadata": {
  "kernelspec": {
   "display_name": "python12",
   "language": "python",
   "name": "python3"
  },
  "language_info": {
   "codemirror_mode": {
    "name": "ipython",
    "version": 3
   },
   "file_extension": ".py",
   "mimetype": "text/x-python",
   "name": "python",
   "nbconvert_exporter": "python",
   "pygments_lexer": "ipython3",
   "version": "3.12.0"
  }
 },
 "nbformat": 4,
 "nbformat_minor": 2
}
