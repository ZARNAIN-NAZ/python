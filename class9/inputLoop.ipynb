{
 "cells": [
  {
   "cell_type": "markdown",
   "metadata": {},
   "source": [
    "loop and input from user\n",
    "while\n",
    "for\n",
    "controls\n",
    "       *break\n",
    "       *continue\n",
    "       *pass\n",
    "input with input function\n",
    "input from console\n",
    "loop working on iterative datatype\n",
    "        *list\n",
    "        *dict\n",
    "        *tuple\n",
    "        *string\n",
    "        \n"
   ]
  },
  {
   "cell_type": "code",
   "execution_count": 3,
   "metadata": {},
   "outputs": [
    {
     "name": "stdout",
     "output_type": "stream",
     "text": [
      "current number:1\n",
      "current number:2\n",
      "current number:3\n",
      "current number:4\n",
      "current number:5\n",
      "current number:6\n",
      "current number:7\n"
     ]
    }
   ],
   "source": [
    "l1:list[int]=[1,2,3,4,5,6,7]\n",
    "for n in l1:\n",
    "    print(f\"current number:{n}\")"
   ]
  },
  {
   "cell_type": "code",
   "execution_count": 5,
   "metadata": {},
   "outputs": [
    {
     "name": "stdout",
     "output_type": "stream",
     "text": [
      "welcome dear jani\n"
     ]
    }
   ],
   "source": [
    "name:str=input(\"what is your name\")\n",
    "print(f\"welcome dear {name}\")"
   ]
  },
  {
   "cell_type": "code",
   "execution_count": 6,
   "metadata": {},
   "outputs": [
    {
     "name": "stdout",
     "output_type": "stream",
     "text": [
      "lin1\n",
      "['C:\\\\Users\\\\Tesla Laptops\\\\AppData\\\\Roaming\\\\Python\\\\Python312\\\\site-packages\\\\ipykernel_launcher.py', '--f=\"c:\\\\Users\\\\Tesla Laptops\\\\AppData\\\\Roaming\\\\jupyter\\\\runtime\\\\kernel-v2-7668TdBr6r2T4VDm.json\"']\n"
     ]
    }
   ],
   "source": [
    "import sys\n",
    "print(\"lin1\")\n",
    "print(sys.argv)\n",
    "# argv type is list\n"
   ]
  },
  {
   "cell_type": "code",
   "execution_count": 7,
   "metadata": {},
   "outputs": [
    {
     "data": {
      "text/plain": [
       "[('a', 'f', 2), ('b', 's', 3), ('c', 'd', 34)]"
      ]
     },
     "execution_count": 7,
     "metadata": {},
     "output_type": "execute_result"
    }
   ],
   "source": [
    "name:list[str]=['a',\"b\",\"c\"]\n",
    "fname:list[str]=[\"f\",\"s\",\"d\"]\n",
    "age:list[int]=[2,3,34]\n",
    "list(zip(name,fname,age))"
   ]
  },
  {
   "cell_type": "code",
   "execution_count": 8,
   "metadata": {},
   "outputs": [
    {
     "name": "stdout",
     "output_type": "stream",
     "text": [
      "current number is: 0\n",
      "current number is: 1\n",
      "current number is: 2\n",
      "current number is: 3\n",
      "current number is: 4\n",
      "current number is: 5\n",
      "current number is: 6\n",
      "current number is: 7\n",
      "current number is: 8\n",
      "current number is: 9\n"
     ]
    }
   ],
   "source": [
    "# input default type is str\n",
    "# iterative datatype list[str]\n",
    "\n",
    "\n",
    "# while loop \n",
    "flag:bool = True\n",
    " \n",
    "current_number :int =0\n",
    "while flag:\n",
    "    print(f\"current number is: {current_number}\")\n",
    "    current_number+=1\n",
    "    if current_number ==10:\n",
    "        break"
   ]
  },
  {
   "cell_type": "code",
   "execution_count": 9,
   "metadata": {},
   "outputs": [
    {
     "name": "stdout",
     "output_type": "stream",
     "text": [
      "current index is: 0 &list value is 100\n",
      "current index is: 1 &list value is 200\n",
      "current index is: 2 &list value is 300\n"
     ]
    },
    {
     "ename": "IndexError",
     "evalue": "list index out of range",
     "output_type": "error",
     "traceback": [
      "\u001b[1;31m---------------------------------------------------------------------------\u001b[0m",
      "\u001b[1;31mIndexError\u001b[0m                                Traceback (most recent call last)",
      "\u001b[1;32mc:\\Users\\Tesla Laptops\\OneDrive - Higher Education Commission\\python\\class9\\inputLoop.ipynb Cell 7\u001b[0m line \u001b[0;36m5\n\u001b[0;32m      <a href='vscode-notebook-cell:/c%3A/Users/Tesla%20Laptops/OneDrive%20-%20Higher%20Education%20Commission/python/class9/inputLoop.ipynb#X10sZmlsZQ%3D%3D?line=2'>3</a>\u001b[0m index :\u001b[39mint\u001b[39m \u001b[39m=\u001b[39m\u001b[39m0\u001b[39m\n\u001b[0;32m      <a href='vscode-notebook-cell:/c%3A/Users/Tesla%20Laptops/OneDrive%20-%20Higher%20Education%20Commission/python/class9/inputLoop.ipynb#X10sZmlsZQ%3D%3D?line=3'>4</a>\u001b[0m \u001b[39mwhile\u001b[39;00m index\u001b[39m<\u001b[39m\u001b[39mlen\u001b[39m(l1):\n\u001b[1;32m----> <a href='vscode-notebook-cell:/c%3A/Users/Tesla%20Laptops/OneDrive%20-%20Higher%20Education%20Commission/python/class9/inputLoop.ipynb#X10sZmlsZQ%3D%3D?line=4'>5</a>\u001b[0m     \u001b[39mprint\u001b[39m(\u001b[39mf\u001b[39m\u001b[39m\"\u001b[39m\u001b[39mcurrent index is: \u001b[39m\u001b[39m{\u001b[39;00mindex\u001b[39m}\u001b[39;00m\u001b[39m &list value is \u001b[39m\u001b[39m{\u001b[39;00mli[index]\u001b[39m}\u001b[39;00m\u001b[39m\"\u001b[39m)\n\u001b[0;32m      <a href='vscode-notebook-cell:/c%3A/Users/Tesla%20Laptops/OneDrive%20-%20Higher%20Education%20Commission/python/class9/inputLoop.ipynb#X10sZmlsZQ%3D%3D?line=5'>6</a>\u001b[0m     index \u001b[39m+\u001b[39m\u001b[39m=\u001b[39m\u001b[39m1\u001b[39m\n",
      "\u001b[1;31mIndexError\u001b[0m: list index out of range"
     ]
    }
   ],
   "source": [
    "li:list[int]=[100,200,300]\n",
    " \n",
    "index :int =0\n",
    "while index<len(l1):\n",
    "    print(f\"current index is: {index} &list value is {li[index]}\")\n",
    "    index +=1\n",
    "    "
   ]
  },
  {
   "cell_type": "code",
   "execution_count": 12,
   "metadata": {},
   "outputs": [
    {
     "name": "stdout",
     "output_type": "stream",
     "text": [
      "write quite pr exit to stop this program\n",
      "write quite pr exit to stop this program\n"
     ]
    },
    {
     "data": {
      "text/plain": [
       "[{'name': 'stop', 'education': 'stop'}]"
      ]
     },
     "metadata": {},
     "output_type": "display_data"
    }
   ],
   "source": [
    "data:list[dict[str,str]]=[]\n",
    "\n",
    "flag :bool=True\n",
    "while flag:\n",
    "    print(\"write quite pr exit to stop this program\")\n",
    "    name:str =input(\"your good name?\\t:\")\n",
    "    education:str=input(\" your highest education?\\t\")\n",
    "\n",
    "    if name not in ['exit' , 'quite' , 'close', 'stop' ] or education not in ['exit' , 'quite' , 'close', 'stop' ]:\n",
    "        flag=False\n",
    "        break\n",
    "    data.append({'name':name,\n",
    "                 'education':education\n",
    "                 })\n",
    "display(data)"
   ]
  },
  {
   "cell_type": "code",
   "execution_count": 14,
   "metadata": {},
   "outputs": [
    {
     "name": "stdout",
     "output_type": "stream",
     "text": [
      "['dog', 'cat', 'chick', 'rabbit']\n",
      "['dog', 'chick', 'rabbit']\n"
     ]
    }
   ],
   "source": [
    "pets =[\"dog\" , \"cat\" ,\"chick\" ,\"rabbit\"]\n",
    "print(pets)\n",
    "\n",
    "while 'cat' in pets:\n",
    "    pets.remove('cat')\n",
    "print(pets)"
   ]
  }
 ],
 "metadata": {
  "kernelspec": {
   "display_name": "python12",
   "language": "python",
   "name": "python3"
  },
  "language_info": {
   "codemirror_mode": {
    "name": "ipython",
    "version": 3
   },
   "file_extension": ".py",
   "mimetype": "text/x-python",
   "name": "python",
   "nbconvert_exporter": "python",
   "pygments_lexer": "ipython3",
   "version": "3.12.0"
  }
 },
 "nbformat": 4,
 "nbformat_minor": 2
}
