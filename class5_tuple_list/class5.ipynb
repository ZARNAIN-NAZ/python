{
 "cells": [
  {
   "cell_type": "markdown",
   "metadata": {},
   "source": [
    "#list \n",
    "iteration operation with loop\n",
    "apply any operation on element"
   ]
  },
  {
   "cell_type": "code",
   "execution_count": 2,
   "metadata": {},
   "outputs": [
    {
     "name": "stdout",
     "output_type": "stream",
     "text": [
      "['muhammad ali']\n"
     ]
    }
   ],
   "source": [
    "names : list[str] = [\"muhammad ali\"]\n",
    "print(names)"
   ]
  },
  {
   "cell_type": "code",
   "execution_count": 10,
   "metadata": {},
   "outputs": [
    {
     "name": "stdout",
     "output_type": "stream",
     "text": [
      "muhammad ali\n",
      "sir zia\n",
      "sir inam\n"
     ]
    }
   ],
   "source": [
    "names : list[str] = [\"muhammad ali\" , \"sir zia\" , \"sir inam\"]\n",
    "for name in names:\n",
    "    print(name)\n"
   ]
  },
  {
   "cell_type": "code",
   "execution_count": 17,
   "metadata": {},
   "outputs": [
    {
     "name": "stdout",
     "output_type": "stream",
     "text": [
      "hello teachers Sir Zia\n",
      "piaic gen ai class\n",
      "\n",
      "hello teachers Sir Inam\n",
      "piaic gen ai class\n",
      "\n",
      "run outside loop\n"
     ]
    }
   ],
   "source": [
    "for name in names[-2:]:\n",
    "    print(f'hello teachers {name.title()}')\n",
    "    print(\"piaic gen ai class\\n\")\n",
    "print(\"run outside loop\")"
   ]
  },
  {
   "cell_type": "markdown",
   "metadata": {},
   "source": [
    "for name in names:\n",
    "    print(name)"
   ]
  },
  {
   "cell_type": "code",
   "execution_count": 9,
   "metadata": {},
   "outputs": [
    {
     "name": "stdout",
     "output_type": "stream",
     "text": [
      "alina\n",
      "areeba\n",
      "maliha\n"
     ]
    }
   ],
   "source": [
    "names = [ \"alina\" , \"areeba\" , \"maliha\"]\n",
    "i:int= 0 # initilize counter\n",
    "while i<len(names):\n",
    "    print(names[i])\n",
    "    i+=1\n"
   ]
  },
  {
   "cell_type": "markdown",
   "metadata": {},
   "source": [
    "```\n",
    "names = [ \"alina\" , \"areeba\" , \"maliha\"]\n",
    "for(i=0;i<names.length ;i++{\n",
    "names[i]\n",
    "})\n",
    "```"
   ]
  },
  {
   "cell_type": "markdown",
   "metadata": {},
   "source": [
    "tuple"
   ]
  },
  {
   "cell_type": "code",
   "execution_count": 24,
   "metadata": {},
   "outputs": [
    {
     "name": "stdout",
     "output_type": "stream",
     "text": [
      "{'123', 'zarnain'}\n",
      "{'12223', 'alina'}\n"
     ]
    }
   ],
   "source": [
    "# from typing import Tuple\n",
    "data_base:list[tuple[str, str]] = [\n",
    "{\"zarnain\" , \"123\"},\n",
    "{\"alina\" , \"12223\"}\n",
    " ]\n",
    "for row in data_base:\n",
    "    print(row)"
   ]
  },
  {
   "cell_type": "code",
   "execution_count": 25,
   "metadata": {},
   "outputs": [
    {
     "name": "stdout",
     "output_type": "stream",
     "text": [
      "123 zarnain\n",
      "12223 alina\n"
     ]
    }
   ],
   "source": [
    "data_base:list[tuple[str, str]] = [\n",
    "{\"zarnain\" , \"123\"},\n",
    "{\"alina\" , \"12223\"}\n",
    " ]\n",
    "for row in data_base:\n",
    "    user , password =row\n",
    "    print(user ,password)"
   ]
  },
  {
   "cell_type": "code",
   "execution_count": 31,
   "metadata": {},
   "outputs": [
    {
     "name": "stdout",
     "output_type": "stream",
     "text": [
      "dont mathced!\n"
     ]
    }
   ],
   "source": [
    "data_base:list[tuple[str, str]] = [\n",
    "{\"zarnain\" , \"123\"},\n",
    "{\"alina\" , \"12223\"}\n",
    " ]\n",
    "\n",
    "input_user :str = input(\"enter your name\")\n",
    "input_pass :str = input(\"enter your pass\")\n",
    "# print(input_user , input_pass)\n",
    "for row in data_base:\n",
    "    user , password =row\n",
    "    if input_user == user and input_pass == password:\n",
    "        print(\"password matched!\")\n",
    "        break\n",
    "else:\n",
    "    print(\"dont mathced!\")\n",
    "       \n",
    "    # print(user ,password)"
   ]
  },
  {
   "cell_type": "code",
   "execution_count": 37,
   "metadata": {},
   "outputs": [
    {
     "name": "stdout",
     "output_type": "stream",
     "text": [
      "Alice , that was a great trick!\n",
      "David , that was a great trick!\n",
      " Carolina , that was a great trick!\n",
      "I CANT WAIT TO SEE YOU,  Carolina.\n",
      "\n"
     ]
    }
   ],
   "source": [
    "magicians=[\"alice\" , \"david\" , \" carolina\"]\n",
    "for magician in magicians:\n",
    "    print(f'{magician.title()} , that was a great trick!')\n",
    "print(f'I CANT WAIT TO SEE YOU, {magician.title()}.\\n')\n",
    "# last value will be used outside of loop "
   ]
  },
  {
   "cell_type": "markdown",
   "metadata": {},
   "source": [
    "#numbers with loop\n",
    "range(start:end :step) \n"
   ]
  },
  {
   "cell_type": "code",
   "execution_count": 39,
   "metadata": {},
   "outputs": [
    {
     "data": {
      "text/plain": [
       "[0, 1, 2]"
      ]
     },
     "execution_count": 39,
     "metadata": {},
     "output_type": "execute_result"
    }
   ],
   "source": [
    "list(range(0,3))   #starting=0 , end:n-1"
   ]
  },
  {
   "cell_type": "code",
   "execution_count": 40,
   "metadata": {},
   "outputs": [
    {
     "data": {
      "text/plain": [
       "[2, 4, 6, 8, 10, 12, 14, 16, 18]"
      ]
     },
     "execution_count": 40,
     "metadata": {},
     "output_type": "execute_result"
    }
   ],
   "source": [
    "list(range(2,20, 2))"
   ]
  },
  {
   "cell_type": "code",
   "execution_count": 42,
   "metadata": {},
   "outputs": [
    {
     "name": "stdout",
     "output_type": "stream",
     "text": [
      "2\n",
      "5\n",
      "8\n",
      "11\n",
      "14\n",
      "17\n",
      "20\n"
     ]
    }
   ],
   "source": [
    "for z in range(2,23,3):\n",
    "    print(z)"
   ]
  },
  {
   "cell_type": "code",
   "execution_count": 45,
   "metadata": {},
   "outputs": [
    {
     "name": "stdout",
     "output_type": "stream",
     "text": [
      "0 alice\n",
      "1 david\n",
      "2  carolina\n"
     ]
    }
   ],
   "source": [
    "\n",
    "\n",
    "magicians=[\"alice\" , \"david\" , \" carolina\"]\n",
    "# list(enumerate(magicians))\n",
    "for index ,name in enumerate(magicians):\n",
    "    print(index , name)"
   ]
  },
  {
   "cell_type": "code",
   "execution_count": 52,
   "metadata": {},
   "outputs": [
    {
     "name": "stdout",
     "output_type": "stream",
     "text": [
      "2 * 1 = 2\n",
      "2 * 2 = 4\n",
      "2 * 3 = 6\n",
      "2 * 4 = 8\n",
      "2 * 5 = 10\n",
      "2 * 6 = 12\n",
      "2 * 7 = 14\n",
      "2 * 8 = 16\n",
      "2 * 9 = 18\n",
      "2 * 10 = 20\n"
     ]
    }
   ],
   "source": [
    "# generate table of 2\n",
    "# list(range(2,21,2))\n",
    "list(range(1,11))\n",
    "\n",
    "\n",
    "for n in range(1,11):\n",
    "    print(f\"2 * {n} = {2*n}\")\n"
   ]
  },
  {
   "cell_type": "markdown",
   "metadata": {},
   "source": [
    "#list comprehensive\n",
    "```\n",
    "for item in items_list:\n",
    "   loop_body\n",
    "```\n",
    "comprehensive style\n",
    "\n",
    "```\n",
    "   [loop_body for item in items_list]\n",
    "```\n"
   ]
  },
  {
   "cell_type": "code",
   "execution_count": 53,
   "metadata": {},
   "outputs": [
    {
     "name": "stdout",
     "output_type": "stream",
     "text": [
      "[1, 4, 9, 16, 25, 36, 49, 64, 81, 100]\n"
     ]
    }
   ],
   "source": [
    "squares : list[int] = []\n",
    "for value in range(1,11):\n",
    "    square=value**2\n",
    "    squares.append(square)\n",
    "print(squares)"
   ]
  },
  {
   "cell_type": "code",
   "execution_count": 55,
   "metadata": {},
   "outputs": [
    {
     "name": "stdout",
     "output_type": "stream",
     "text": [
      "['pizza', 'cake', 'falafel']\n",
      "['pizza', 'cake', 'falafel']\n",
      "['tiikkaa', 'cake', 'falafel']\n"
     ]
    }
   ],
   "source": [
    "my_foods = [\"pizza\" , \"cake\" , \"falafel\"]\n",
    "freind_food = my_foods[:]\n",
    "\n",
    "print(my_foods)\n",
    "print(freind_food)\n",
    "\n",
    "freind_food[0] =\"tiikkaa\"\n",
    "print(freind_food)"
   ]
  },
  {
   "cell_type": "markdown",
   "metadata": {},
   "source": [
    "tuple\n",
    "immutable\n",
    "cant update\n"
   ]
  },
  {
   "cell_type": "code",
   "execution_count": 58,
   "metadata": {},
   "outputs": [
    {
     "name": "stdout",
     "output_type": "stream",
     "text": [
      "a\n",
      "c\n",
      "('pakistan', 'china', 'india')\n"
     ]
    }
   ],
   "source": [
    "names:tuple[str ,str] = (\"a\" , \"b\" , \"c\")\n",
    "print(names[0])\n",
    "print(names[2])\n",
    "\n",
    "names:tuple[str ,str] = (\"pakistan\" , \"china\" , \"india\")\n",
    "print(names)\n"
   ]
  },
  {
   "cell_type": "code",
   "execution_count": 62,
   "metadata": {},
   "outputs": [
    {
     "name": "stdout",
     "output_type": "stream",
     "text": [
      "[1, 2, 3]\n",
      "('A', [1, 2, 3], True)\n",
      "('A', [1, 2, 3, 20], True)\n"
     ]
    }
   ],
   "source": [
    "from typing import Any\n",
    "data : tuple[Any] = (\"A\" , [1,2,3] ,True)\n",
    "print(data[1])\n",
    "print(data)\n",
    "data[1].append(20)\n",
    "print(data)\n"
   ]
  }
 ],
 "metadata": {
  "kernelspec": {
   "display_name": "python12",
   "language": "python",
   "name": "python3"
  },
  "language_info": {
   "codemirror_mode": {
    "name": "ipython",
    "version": 3
   },
   "file_extension": ".py",
   "mimetype": "text/x-python",
   "name": "python",
   "nbconvert_exporter": "python",
   "pygments_lexer": "ipython3",
   "version": "3.12.0"
  }
 },
 "nbformat": 4,
 "nbformat_minor": 2
}
