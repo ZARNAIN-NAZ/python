{
 "cells": [
  {
   "cell_type": "code",
   "execution_count": 1,
   "metadata": {},
   "outputs": [
    {
     "name": "stdout",
     "output_type": "stream",
     "text": [
      "Audi\n",
      " Bmw\n",
      "Subaru\n",
      "Toyota\n"
     ]
    }
   ],
   "source": [
    "cars = [\"audi\" , \" bmw\" ,\"subaru\" , \"toyota\"]\n",
    "for car in cars:\n",
    "    if car=='bmw':\n",
    "        print(car.upper())\n",
    "    else:\n",
    "        print(car.title())"
   ]
  },
  {
   "cell_type": "code",
   "execution_count": 4,
   "metadata": {},
   "outputs": [
    {
     "name": "stdout",
     "output_type": "stream",
     "text": [
      "hello world!\n"
     ]
    }
   ],
   "source": [
    "if False:\n",
    "    print(\"pakistan zindabad\")\n",
    "else:\n",
    "    print(\"hello world!\")"
   ]
  },
  {
   "cell_type": "code",
   "execution_count": 6,
   "metadata": {},
   "outputs": [
    {
     "name": "stdout",
     "output_type": "stream",
     "text": [
      "hello world!\n"
     ]
    }
   ],
   "source": [
    "# true_block                logic                  false_block\n",
    "print(\"pakistan zindabad\") if False else print(\"hello world!\")"
   ]
  },
  {
   "cell_type": "code",
   "execution_count": 8,
   "metadata": {},
   "outputs": [
    {
     "name": "stdout",
     "output_type": "stream",
     "text": [
      "zarnain here\n"
     ]
    }
   ],
   "source": [
    "print(\"zarnain here\") if True else print(\"i am not here!\")"
   ]
  },
  {
   "cell_type": "code",
   "execution_count": 11,
   "metadata": {},
   "outputs": [
    {
     "name": "stdout",
     "output_type": "stream",
     "text": [
      "elif1\n"
     ]
    }
   ],
   "source": [
    "if False:\n",
    "    print(\"true run\")\n",
    "elif True:\n",
    "    print(\"elif1\")\n",
    "else:\n",
    "    print(\"else run\")"
   ]
  },
  {
   "cell_type": "code",
   "execution_count": 13,
   "metadata": {},
   "outputs": [
    {
     "name": "stdout",
     "output_type": "stream",
     "text": [
      "elif1\n",
      "final\n",
      "true run\n",
      "final\n"
     ]
    }
   ],
   "source": [
    "if False:\n",
    "    print(\"true run\")\n",
    "elif True:\n",
    "    print(\"elif1\")\n",
    "elif True:\n",
    "    print(\"elif2f\")\n",
    "else:\n",
    "    print(\"else run\")\n",
    "print(\"final\")\n",
    "\n",
    "if True:\n",
    "    print(\"true run\")\n",
    "elif True:\n",
    "    print(\"elif1\")\n",
    "elif True:\n",
    "    print(\"elif2f\")\n",
    "else:\n",
    "    print(\"else run\")\n",
    "print(\"final\")"
   ]
  },
  {
   "cell_type": "markdown",
   "metadata": {},
   "source": [
    "grading rule\n"
   ]
  },
  {
   "cell_type": "code",
   "execution_count": 15,
   "metadata": {},
   "outputs": [
    {
     "name": "stdout",
     "output_type": "stream",
     "text": [
      "7.9\n"
     ]
    }
   ],
   "source": [
    "from typing import Union\n",
    "percentage : float ==88.0\n",
    "grade : Union[int, float] = 7.9\n",
    "print(grade)\n",
    "# example"
   ]
  },
  {
   "cell_type": "code",
   "execution_count": 32,
   "metadata": {},
   "outputs": [
    {
     "name": "stdout",
     "output_type": "stream",
     "text": [
      "<class 'int'>\n",
      "7\n"
     ]
    }
   ],
   "source": [
    "a = int(input(\"enter your percentage:\\t\"))\n",
    "print(type(a))\n",
    "print(a)"
   ]
  },
  {
   "cell_type": "code",
   "execution_count": 35,
   "metadata": {},
   "outputs": [
    {
     "name": "stdout",
     "output_type": "stream",
     "text": [
      "Dear students your percentage is 34 now your calculated grade is \n",
      "E grade\n"
     ]
    }
   ],
   "source": [
    "from typing import Union , Optional\n",
    "# union support any of given datatype\n",
    "per : Union[int, float] = int(input(\"enter your percentage:\\t\"))\n",
    "grade :Union[str,None] = None\n",
    "grade :Optional[str] =None\n",
    "# grade:int| float =89 both union and this way can used \n",
    "if per >=80:\n",
    "    grade =\"A+ Grade\"\n",
    "elif per >=70:\n",
    "    grade=\"A grade\"\n",
    "elif per>=60:\n",
    "    grade = \"B Grade\"\n",
    "elif per>=50:\n",
    "    grade = \"C grade\"\n",
    "elif per>=40:\n",
    "    grade = \"D grade\"\n",
    "elif per>=33:\n",
    "    grade = \"E grade\"\n",
    "else:\n",
    "    grade = \"FAIL!\"\n",
    "print(f\"Dear students your percentage is {per} now your calculated grade is \\n{grade}\")\n"
   ]
  },
  {
   "cell_type": "code",
   "execution_count": 37,
   "metadata": {},
   "outputs": [
    {
     "name": "stdout",
     "output_type": "stream",
     "text": [
      "Dear students your percentage is 76.9 now your calculated grade is \n",
      "A\n"
     ]
    }
   ],
   "source": [
    "from typing import Union\n",
    "per:Union[int, float]=float(input(\"enter your percentage\"))\n",
    "grade:str|None=None\n",
    "if(per>=0) and (per<33):\n",
    "    grade=\"fail\"\n",
    "elif(per>=33) and (per<40):\n",
    "    grade =\"E\"\n",
    "elif(per>=40) and (per<50):\n",
    "    grade =\"D\" \n",
    "elif(per>=50) and (per<60):\n",
    "    grade =\"C\" \n",
    "elif(per>=60) and (per<70):\n",
    "    grade =\"B\"\n",
    "elif(per>=73) and (per<80):\n",
    "    grade =\"A\"\n",
    "print(f\"Dear students your percentage is {per} now your calculated grade is \\n{grade}\")\n",
    "\n",
    "    "
   ]
  },
  {
   "cell_type": "markdown",
   "metadata": {},
   "source": [
    "student percentages\n"
   ]
  },
  {
   "cell_type": "code",
   "execution_count": 46,
   "metadata": {},
   "outputs": [
    {
     "name": "stdout",
     "output_type": "stream",
     "text": [
      "[89, 78, 99, 45, 56, 77, 89]\n",
      "['A+']\n"
     ]
    }
   ],
   "source": [
    "from typing import Union\n",
    "# perType = Union[float , int] can create your own type \n",
    "perType = Union[float , int]\n",
    "percentages :list[perType] = [89,78,99,45,56,77, 89]\n",
    "\n",
    "grades :list[str] = []\n",
    "\n",
    "for per in percentages:\n",
    "    grade :str=\"\"\n",
    "\n",
    "if(per>=0) and (per<33):\n",
    "    grade=\"fail\"\n",
    "elif(per>=33) and (per<40):\n",
    "    grade =\"E\"\n",
    "elif(per>=40) and (per<50):\n",
    "    grade =\"D\" \n",
    "elif(per>=50) and (per<60):\n",
    "    grade =\"C\" \n",
    "elif(per>=60) and (per<70):\n",
    "    grade =\"B\"\n",
    "elif(per>=73) and (per<80):\n",
    "    grade =\"A\"\n",
    "elif(per>=80) and (per<100):\n",
    "    grade =\"A+\"\n",
    "    \n",
    "# print(f\"Dear students your percentage is {per} now your calculated grade is \\n{grade}\")\n",
    "grades.append(grade)\n",
    "\n",
    "print(percentages)\n",
    "print(grades)"
   ]
  },
  {
   "cell_type": "code",
   "execution_count": 50,
   "metadata": {},
   "outputs": [
    {
     "data": {
      "text/plain": [
       "['Audi', 'BMW', 'Subaru', 'Toyota']"
      ]
     },
     "execution_count": 50,
     "metadata": {},
     "output_type": "execute_result"
    }
   ],
   "source": [
    "cars:list[str] = [\"audi\" , \"bmw\" , \"subaru\" , \"toyota\"]\n",
    "# for car in cars:\n",
    "#     if car ==\"bmw\":\n",
    "#         print(car.upper())\n",
    "#     else:\n",
    "#         print(car.title())\n",
    "\n",
    "[i.upper() if i==\"bmw\" else i.title() for i in cars]"
   ]
  },
  {
   "cell_type": "code",
   "execution_count": 47,
   "metadata": {},
   "outputs": [
    {
     "data": {
      "text/plain": [
       "[(89, 'A+')]"
      ]
     },
     "execution_count": 47,
     "metadata": {},
     "output_type": "execute_result"
    }
   ],
   "source": [
    "list(zip(percentages , grades))"
   ]
  },
  {
   "cell_type": "code",
   "execution_count": 51,
   "metadata": {},
   "outputs": [
    {
     "name": "stdout",
     "output_type": "stream",
     "text": [
      "AUDI\n",
      "BMW\n",
      "mehran\n",
      "SUBARU\n",
      "TOYOTA\n"
     ]
    }
   ],
   "source": [
    "cars:list[str] = [\"audi\" , \"bmw\" , \"mehran\" , \"subaru\" , \"toyota\"]\n",
    "for car in cars:\n",
    "    if car !=\"mehran\":\n",
    "        print(car.upper())\n",
    "    else:\n",
    "        print(car.lower())"
   ]
  },
  {
   "cell_type": "code",
   "execution_count": 53,
   "metadata": {},
   "outputs": [
    {
     "name": "stdout",
     "output_type": "stream",
     "text": [
      "that is not correct number , please try again!\n"
     ]
    }
   ],
   "source": [
    "answer =17\n",
    "if answer !=32:\n",
    "    print(\"that is not correct number , please try again!\")"
   ]
  },
  {
   "cell_type": "code",
   "execution_count": 55,
   "metadata": {},
   "outputs": [
    {
     "name": "stdout",
     "output_type": "stream",
     "text": [
      "True\n",
      "Marries , you can post a response if you wish.\n"
     ]
    }
   ],
   "source": [
    "banned_users:list[str]={\"andrew \" , \"carolina\" , \"david\"}\n",
    "user : str =\"marries\"\n",
    "print(user not in banned_users)\n",
    "if user not in banned_users:\n",
    "    print(f\"{user.title()} , you can post a response if you wish.\")"
   ]
  },
  {
   "cell_type": "code",
   "execution_count": 58,
   "metadata": {},
   "outputs": [
    {
     "name": "stdout",
     "output_type": "stream",
     "text": [
      "sorry , you are too young to vote\n",
      "please register a vote\n"
     ]
    }
   ],
   "source": [
    "age = 13\n",
    "if age >=19:\n",
    "    print(\"you are old enough to vote!\") \n",
    "    print(\"have you registered to vote yet..\")\n",
    "else:\n",
    "    print(\"sorry , you are too young to vote\")\n",
    "    print(\"please register a vote\")"
   ]
  },
  {
   "cell_type": "code",
   "execution_count": 59,
   "metadata": {},
   "outputs": [
    {
     "name": "stdout",
     "output_type": "stream",
     "text": [
      "adding mashrooms\n",
      "\n",
      "finished making your pizza\n"
     ]
    }
   ],
   "source": [
    "requested_toppings : list[str] =[\"mushrooms\" , \"extra cheese\"]\n",
    "if 'mushrooms' in requested_toppings:\n",
    "    print(\"adding mashrooms\")\n",
    "if 'peoperoni' in requested_toppings:\n",
    "    print(\"adding extra cheese\")\n",
    "if 'extra cheese' in requested_toppings:\n",
    "    print('\\nfinished making your pizza')"
   ]
  }
 ],
 "metadata": {
  "kernelspec": {
   "display_name": "python12",
   "language": "python",
   "name": "python3"
  },
  "language_info": {
   "codemirror_mode": {
    "name": "ipython",
    "version": 3
   },
   "file_extension": ".py",
   "mimetype": "text/x-python",
   "name": "python",
   "nbconvert_exporter": "python",
   "pygments_lexer": "ipython3",
   "version": "3.12.0"
  }
 },
 "nbformat": 4,
 "nbformat_minor": 2
}
