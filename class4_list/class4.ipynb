{
 "cells": [
  {
   "cell_type": "code",
   "execution_count": 1,
   "metadata": {},
   "outputs": [],
   "source": [
    "a:str = \"zarnain\"\n",
    "b:str =\" abid\"\n",
    "c:str=\"sir imam\"\n"
   ]
  },
  {
   "cell_type": "markdown",
   "metadata": {},
   "source": [
    "#list\n",
    "dynamic length\n",
    "hetrogenous data types ( multiple type)\n",
    "index\n",
    " positive 0 to n-1\n",
    " negative -1 to 10 length\n"
   ]
  },
  {
   "cell_type": "code",
   "execution_count": 7,
   "metadata": {},
   "outputs": [
    {
     "name": "stdout",
     "output_type": "stream",
     "text": [
      "tayyaba\n"
     ]
    }
   ],
   "source": [
    "# ->     0              1       2       left to right\n",
    "names= [\"alina\" , \"tayyaba\" ,\"zara\"]\n",
    "# <-          -3          -2      -1 right to left \n",
    "print(names[-2])\n"
   ]
  },
  {
   "cell_type": "code",
   "execution_count": 15,
   "metadata": {},
   "outputs": [
    {
     "name": "stdout",
     "output_type": "stream",
     "text": [
      "<class 'bool'>\n",
      "My name is ZARA \n"
     ]
    }
   ],
   "source": [
    "from typing import Any\n",
    "names :list[any] = [\"zara\" , \"alina\" ,\"maham\"  , 9, True]\n",
    "print(type(names[-1]))\n",
    "print(f'My name is {names[0].upper()} ')"
   ]
  },
  {
   "cell_type": "markdown",
   "metadata": {},
   "source": [
    "slice\n",
    "variable `names[start:end : step]`\n",
    "start :int = include\n",
    " end:int = n-1\n",
    " step :int = seqeance\n",
    " slicing always work from left to right\n"
   ]
  },
  {
   "cell_type": "code",
   "execution_count": 17,
   "metadata": {},
   "outputs": [
    {
     "name": "stdout",
     "output_type": "stream",
     "text": [
      "['ABCDEFIGKLMNOPQRSTUVWXYZ']\n",
      "['A', 'B', 'C', 'D', 'E', 'F', 'I', 'G', 'K', 'L', 'M', 'N', 'O', 'P', 'Q', 'R', 'S', 'T', 'U', 'V', 'W', 'X', 'Y', 'Z']\n"
     ]
    }
   ],
   "source": [
    "characters : list[str] = [\"ABCDEFIGKLMNOPQRSTUVWXYZ\"]\n",
    "characters1 : list[str] = list(\"ABCDEFIGKLMNOPQRSTUVWXYZ\")\n",
    "print(characters)\n",
    "print(characters1)"
   ]
  },
  {
   "cell_type": "code",
   "execution_count": 29,
   "metadata": {},
   "outputs": [
    {
     "name": "stdout",
     "output_type": "stream",
     "text": [
      "['A', 'B']\n",
      "['A', 'B', 'C', 'D', 'E', 'F', 'I', 'G', 'K', 'L', 'M', 'N', 'O', 'P', 'Q', 'R', 'S', 'T', 'U', 'V', 'W', 'X', 'Y', 'Z']\n",
      "['A', 'B']\n",
      "[]\n",
      "['A', 'D', 'I', 'L', 'O', 'R', 'U']\n"
     ]
    }
   ],
   "source": [
    "characters :list[str] =['A', 'B', 'C', 'D', 'E', 'F', 'I', 'G', 'K', 'L', 'M', 'N', 'O', 'P', 'Q', 'R', 'S', 'T', 'U', 'V', 'W', 'X', 'Y', 'Z']\n",
    "print(characters[0:2])\n",
    "print(characters[0:])\n",
    "print(characters[:2])\n",
    "print(characters[-26:-24])\n",
    "print(characters[0:21:3])\n",
    "#by default step value is 1\n"
   ]
  },
  {
   "cell_type": "code",
   "execution_count": 33,
   "metadata": {},
   "outputs": [
    {
     "name": "stdout",
     "output_type": "stream",
     "text": [
      "['A', 'B', 'C', 'D', 'E', 'F', 'I', 'G', 'K', 'L', 'M', 'N', 'O', 'P', 'Q', 'R', 'S', 'T', 'U', 'V', 'W', 'X', 'Y', 'Z']\n",
      "['A', 'C', 'E', 'I', 'K', 'M', 'O', 'Q', 'S', 'U', 'W', 'Y']\n",
      "['Z', 'X', 'V', 'T', 'R', 'P', 'N', 'L', 'G', 'F', 'D', 'B']\n"
     ]
    }
   ],
   "source": [
    "characters :list[str] =['A', 'B', 'C', 'D', 'E', 'F', 'I', 'G', 'K', 'L', 'M', 'N', 'O', 'P', 'Q', 'R', 'S', 'T', 'U', 'V', 'W', 'X', 'Y', 'Z']\n",
    "print(characters[::])\n",
    "print(characters[::2])\n",
    "print(characters[::-2])"
   ]
  },
  {
   "cell_type": "code",
   "execution_count": 39,
   "metadata": {},
   "outputs": [
    {
     "name": "stdout",
     "output_type": "stream",
     "text": [
      "['Z', 'W']\n",
      "['Z', 'W', 'T', 'Q', 'N', 'K', 'F', 'C']\n"
     ]
    }
   ],
   "source": [
    "# step  slicing ->\n",
    "#step -> positive\n",
    "# step <- negative\n",
    "\n",
    "characters :list[str] =['A', 'B', 'C', 'D', 'E', 'F', 'I', 'G', 'K', 'L', 'M', 'N', 'O', 'P', 'Q', 'R', 'S', 'T', 'U', 'V', 'W', 'X', 'Y', 'Z']\n",
    "print(characters[-1:-5:-3])\n",
    "print(characters[::-3])\n",
    "\n"
   ]
  },
  {
   "cell_type": "markdown",
   "metadata": {},
   "source": [
    "#list method"
   ]
  },
  {
   "cell_type": "code",
   "execution_count": 44,
   "metadata": {},
   "outputs": [
    {
     "name": "stdout",
     "output_type": "stream",
     "text": [
      "['zarnain', 'khinsa', 'tayyab ', 'mujeeeb']\n",
      "zarnain naz\n",
      "['khinsa', 'tayyab ', 'mujeeeb']\n"
     ]
    }
   ],
   "source": [
    "students:list[str] = [\"zarnain\" ,\"khinsa\" , \"tayyab \" , \"mujeeeb\"]\n",
    "print(students)\n",
    "students[0] = \"zarnain naz\"\n",
    "print(students[0])\n",
    "del students[0] \n",
    "print(students)"
   ]
  },
  {
   "cell_type": "code",
   "execution_count": 51,
   "metadata": {},
   "outputs": [
    {
     "name": "stdout",
     "output_type": "stream",
     "text": [
      "alina\n",
      "None\n"
     ]
    },
    {
     "data": {
      "text/plain": [
       "None"
      ]
     },
     "metadata": {},
     "output_type": "display_data"
    }
   ],
   "source": [
    "# print is none return function\n",
    "a:str= print('alina')\n",
    "print(a)\n",
    "display(a)\n"
   ]
  },
  {
   "cell_type": "code",
   "execution_count": 52,
   "metadata": {},
   "outputs": [
    {
     "data": {
      "text/plain": [
       "2076794426816"
      ]
     },
     "metadata": {},
     "output_type": "display_data"
    }
   ],
   "source": [
    "# return function\n",
    "a:str= id(names)\n",
    "display(a)"
   ]
  },
  {
   "cell_type": "markdown",
   "metadata": {},
   "source": [
    "help\n",
    "help(object)\n",
    "object?\n",
    "object??\n",
    "?object\n",
    "??object"
   ]
  },
  {
   "cell_type": "code",
   "execution_count": 53,
   "metadata": {},
   "outputs": [
    {
     "data": {
      "text/plain": [
       "['append',\n",
       " 'clear',\n",
       " 'copy',\n",
       " 'count',\n",
       " 'extend',\n",
       " 'index',\n",
       " 'insert',\n",
       " 'pop',\n",
       " 'remove',\n",
       " 'reverse',\n",
       " 'sort']"
      ]
     },
     "execution_count": 53,
     "metadata": {},
     "output_type": "execute_result"
    }
   ],
   "source": [
    "[i for i in dir(list) if \"__\" not in i]"
   ]
  },
  {
   "cell_type": "code",
   "execution_count": 67,
   "metadata": {},
   "outputs": [
    {
     "name": "stdout",
     "output_type": "stream",
     "text": [
      "['zarnain', 'khinsa', 'tayyab ', 'mujeeeb']\n",
      "i\n",
      "['khinsa', 'tayyab ', 'mujeeeb']\n"
     ]
    }
   ],
   "source": [
    "new_students:list[str] = [\"zarnain\" ,\"khinsa\" , \"tayyab \" , \"mujeeeb\"]\n",
    "print(new_students)\n",
    "a:str= new_students.pop(0)\n",
    "print(a[-2])\n",
    "print(new_students)\n"
   ]
  },
  {
   "cell_type": "code",
   "execution_count": 71,
   "metadata": {},
   "outputs": [
    {
     "name": "stdout",
     "output_type": "stream",
     "text": [
      "['kiran', 'abbas', 'habib', 'jamil']\n"
     ]
    }
   ],
   "source": [
    "names : list[str] = [\"kiran\" ,\"abbas\" , \"habib\"]\n",
    "names.append(\"jamil\")\n",
    "print(names)\n",
    "#  add at last"
   ]
  },
  {
   "cell_type": "code",
   "execution_count": 75,
   "metadata": {},
   "outputs": [
    {
     "name": "stdout",
     "output_type": "stream",
     "text": [
      "['kiran', 'abbas', 'kamran', 'habib']\n"
     ]
    }
   ],
   "source": [
    "# insert add at  start  or any where position that we give\n",
    "names : list[str] = [\"kiran\" ,\"abbas\" , \"habib\"]\n",
    "names.insert(2,\"kamran\")\n",
    "print(names)"
   ]
  },
  {
   "cell_type": "code",
   "execution_count": 81,
   "metadata": {},
   "outputs": [
    {
     "name": "stdout",
     "output_type": "stream",
     "text": [
      "[]\n"
     ]
    }
   ],
   "source": [
    "names : list[str] = [\"kiran\" ,\"abbas\" , \"habib\"]\n",
    "names.clear() #remove all elements\n",
    "print(names)"
   ]
  },
  {
   "cell_type": "code",
   "execution_count": 86,
   "metadata": {},
   "outputs": [
    {
     "name": "stdout",
     "output_type": "stream",
     "text": [
      "['kiran', 'abbas', 'habib']\n",
      "['kiran', 'abbas', 'habib']\n",
      "['naya banda', 'abbas', 'habib']\n",
      "['kiran', 'abbas', 'habib']\n"
     ]
    }
   ],
   "source": [
    "names : list[str] = [\"kiran\" ,\"abbas\" , \"habib\"]\n",
    "# abbas = names # shallow copy\n",
    "abbas = names.copy()\n",
    "print(abbas)\n",
    "print(names)\n",
    "names[0] = \"naya banda\"\n",
    "print(names)\n",
    "print(abbas)\n"
   ]
  },
  {
   "cell_type": "code",
   "execution_count": 99,
   "metadata": {},
   "outputs": [
    {
     "name": "stdout",
     "output_type": "stream",
     "text": [
      "1\n"
     ]
    }
   ],
   "source": [
    "# count\n",
    "a : list[str] =[\"a\" , \"b\" , \"a\" , \"b\" , \"c\" ,\"m\" ,\"t\",\"z\"]\n",
    "print(a.count('c'))\n"
   ]
  },
  {
   "cell_type": "code",
   "execution_count": 110,
   "metadata": {},
   "outputs": [
    {
     "data": {
      "text/plain": [
       "['ali rana', 'bahadur khan', 'gulzar ahemd', ['sir imran', 'Dr noman']]"
      ]
     },
     "execution_count": 110,
     "metadata": {},
     "output_type": "execute_result"
    }
   ],
   "source": [
    "# extend\n",
    "\n",
    "name:list[str] = [\"ali rana\" , \"bahadur khan\" , \"gulzar ahemd\"]\n",
    "new_falcuty_member :list[str] = [\"sir imran\" , \"Dr noman\"]\n",
    "name.append(new_falcuty_member)\n",
    "name\n"
   ]
  },
  {
   "cell_type": "code",
   "execution_count": 108,
   "metadata": {},
   "outputs": [
    {
     "data": {
      "text/plain": [
       "['ali rana', 'bahadur khan', 'gulzar ahemd', 'sir imran', 'Dr noman']"
      ]
     },
     "execution_count": 108,
     "metadata": {},
     "output_type": "execute_result"
    }
   ],
   "source": [
    "name:list[str] = [\"ali rana\" , \"bahadur khan\" , \"gulzar ahemd\"]\n",
    "new_falcuty_member :list[str] = [\"sir imran\" , \"Dr noman\"]\n",
    "name.extend(new_falcuty_member)\n",
    "name"
   ]
  },
  {
   "cell_type": "code",
   "execution_count": 120,
   "metadata": {},
   "outputs": [
    {
     "data": {
      "text/plain": [
       "4"
      ]
     },
     "execution_count": 120,
     "metadata": {},
     "output_type": "execute_result"
    }
   ],
   "source": [
    "name:list[str] = [\"ali rana\" , \"bahadur khan\" , \"gulzar ahemd\" , \"gulzar ahemd\",\"gulzar ahemd\"]\n",
    "# name.remove(\"gulzar ahemd\")\n",
    "# name\n",
    "name.index(\"gulzar ahemd\" , 4)\n",
    "\n"
   ]
  },
  {
   "cell_type": "code",
   "execution_count": 121,
   "metadata": {},
   "outputs": [
    {
     "data": {
      "text/plain": [
       "['gulzar ahemd', 'bahadur khan', 'ali rana']"
      ]
     },
     "execution_count": 121,
     "metadata": {},
     "output_type": "execute_result"
    }
   ],
   "source": [
    "name:list[str] = [\"ali rana\" , \"bahadur khan\" , \"gulzar ahemd\"]\n",
    "name.reverse()\n",
    "name"
   ]
  },
  {
   "cell_type": "code",
   "execution_count": 127,
   "metadata": {},
   "outputs": [
    {
     "data": {
      "text/plain": [
       "['gulzar ahemd', 'bahadur khan', 'ali rana']"
      ]
     },
     "execution_count": 127,
     "metadata": {},
     "output_type": "execute_result"
    }
   ],
   "source": [
    "name:list[str] = [\"ali rana\" , \"bahadur khan\" , \"gulzar ahemd\"]\n",
    "name.sort(reverse=True)\n",
    "name\n",
    "# sort in memory changes in physical data "
   ]
  }
 ],
 "metadata": {
  "kernelspec": {
   "display_name": "python12",
   "language": "python",
   "name": "python3"
  },
  "language_info": {
   "codemirror_mode": {
    "name": "ipython",
    "version": 3
   },
   "file_extension": ".py",
   "mimetype": "text/x-python",
   "name": "python",
   "nbconvert_exporter": "python",
   "pygments_lexer": "ipython3",
   "version": "3.12.0"
  }
 },
 "nbformat": 4,
 "nbformat_minor": 2
}
