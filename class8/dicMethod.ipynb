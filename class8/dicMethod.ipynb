{
 "cells": [
  {
   "cell_type": "code",
   "execution_count": 9,
   "metadata": {},
   "outputs": [
    {
     "name": "stdout",
     "output_type": "stream",
     "text": [
      "before {'fname': 'javeria', 'name': 'alina', 'education': 'bscs', 'age': 19, 'height': '5.2feet'}\n",
      "after {'fname': 'javeria', 'name': 'alina', 'age': 19, 'height': '5.2feet'}\n",
      "['clear', 'copy', 'fromkeys', 'get', 'items', 'keys', 'pop', 'popitem', 'setdefault', 'update', 'values']\n"
     ]
    }
   ],
   "source": [
    "from typing import Dict ,Set, Tuple , Union ,Optional\n",
    "import pprint\n",
    "\n",
    "Key =Union[int,str]\n",
    "Value=Union [int ,str, list , dict, set,tuple]\n",
    "data:Dict[Key,Value]={\n",
    "                     \"fname\":\"javeria\",\n",
    "                     \"name\":\"khan\",\n",
    "                     \"education\":\"bscs\"\n",
    "                \n",
    "\n",
    "}\n",
    "data1:Dict[Key,Value] ={\n",
    "                        \"name\" :\"alina\" ,\n",
    "                        \"age\":19,\n",
    "                          \"height\":\"5.2feet\"\n",
    "                                }\n",
    "data.update(data1)\n",
    "print(\"before\" ,data)\n",
    "# data.clear()\n",
    "# del data\n",
    "a:str =data.pop(\"education\")\n",
    "print(\"after\" ,data)\n",
    "\n",
    "methods:list[str]=[m for m in dir(data) if \"__\" not in m]\n",
    "print(methods)\n"
   ]
  },
  {
   "cell_type": "code",
   "execution_count": 2,
   "metadata": {},
   "outputs": [
    {
     "data": {
      "text/html": [
       "<div>\n",
       "<style scoped>\n",
       "    .dataframe tbody tr th:only-of-type {\n",
       "        vertical-align: middle;\n",
       "    }\n",
       "\n",
       "    .dataframe tbody tr th {\n",
       "        vertical-align: top;\n",
       "    }\n",
       "\n",
       "    .dataframe thead th {\n",
       "        text-align: right;\n",
       "    }\n",
       "</style>\n",
       "<table border=\"1\" class=\"dataframe\">\n",
       "  <thead>\n",
       "    <tr style=\"text-align: right;\">\n",
       "      <th></th>\n",
       "      <th>rollno</th>\n",
       "      <th>nmae</th>\n",
       "      <th>education</th>\n",
       "    </tr>\n",
       "  </thead>\n",
       "  <tbody>\n",
       "    <tr>\n",
       "      <th>0</th>\n",
       "      <td>1</td>\n",
       "      <td>zarnian</td>\n",
       "      <td>bsse</td>\n",
       "    </tr>\n",
       "    <tr>\n",
       "      <th>1</th>\n",
       "      <td>2</td>\n",
       "      <td>inam</td>\n",
       "      <td>bscs</td>\n",
       "    </tr>\n",
       "    <tr>\n",
       "      <th>2</th>\n",
       "      <td>3</td>\n",
       "      <td>alina</td>\n",
       "      <td>bsai</td>\n",
       "    </tr>\n",
       "  </tbody>\n",
       "</table>\n",
       "</div>"
      ],
      "text/plain": [
       "   rollno     nmae education\n",
       "0       1  zarnian      bsse\n",
       "1       2     inam      bscs\n",
       "2       3    alina      bsai"
      ]
     },
     "execution_count": 2,
     "metadata": {},
     "output_type": "execute_result"
    }
   ],
   "source": [
    "import pandas as pd\n",
    "from  typing import  Dict ,  Any \n",
    "student_data : Dict[str,list[Any]]={\n",
    "    \"rollno\": [1,2,3],\n",
    "    \"nmae\":[\"zarnian\" , \"inam\" , \"alina\"],\n",
    "\"education\" :[\"bsse\" , \"bscs\" , \"bsai\"]\n",
    "}\n",
    "\n",
    "df : pd.DataFrame = pd.DataFrame(student_data)\n",
    "df\n"
   ]
  },
  {
   "cell_type": "code",
   "execution_count": 5,
   "metadata": {},
   "outputs": [
    {
     "name": "stdout",
     "output_type": "stream",
     "text": [
      "original position :0\n",
      "new postion :3\n"
     ]
    }
   ],
   "source": [
    "alien_0={\"x_position\":0, 'y_position':25 , \"speed\" : \"medium\"}\n",
    "print(f\"original position :{alien_0['x_position']}\")\n",
    "alien_0['speed']='fast'\n",
    "\n",
    "if alien_0[\"speed\"]=='slow':\n",
    "    x_increment =1\n",
    "elif alien_0[\"speed\"]=='medium':\n",
    "    x_increment=2\n",
    "else:\n",
    "    x_increment=3\n",
    "alien_0['x_position']+=x_increment\n",
    "print(f\"new postion :{alien_0['x_position']}\")"
   ]
  }
 ],
 "metadata": {
  "kernelspec": {
   "display_name": "python12",
   "language": "python",
   "name": "python3"
  },
  "language_info": {
   "codemirror_mode": {
    "name": "ipython",
    "version": 3
   },
   "file_extension": ".py",
   "mimetype": "text/x-python",
   "name": "python",
   "nbconvert_exporter": "python",
   "pygments_lexer": "ipython3",
   "version": "3.12.0"
  }
 },
 "nbformat": 4,
 "nbformat_minor": 2
}
