{
 "cells": [
  {
   "cell_type": "code",
   "execution_count": 9,
   "metadata": {},
   "outputs": [
    {
     "name": "stdout",
     "output_type": "stream",
     "text": [
      "before {'fname': 'javeria', 'name': 'alina', 'education': 'bscs', 'age': 19, 'height': '5.2feet'}\n",
      "after {'fname': 'javeria', 'name': 'alina', 'age': 19, 'height': '5.2feet'}\n",
      "['clear', 'copy', 'fromkeys', 'get', 'items', 'keys', 'pop', 'popitem', 'setdefault', 'update', 'values']\n"
     ]
    }
   ],
   "source": [
    "from typing import Dict ,Set, Tuple , Union ,Optional\n",
    "import pprint\n",
    "\n",
    "Key =Union[int,str]\n",
    "Value=Union [int ,str, list , dict, set,tuple]\n",
    "data:Dict[Key,Value]={\n",
    "                     \"fname\":\"javeria\",\n",
    "                     \"name\":\"khan\",\n",
    "                     \"education\":\"bscs\"\n",
    "                \n",
    "\n",
    "}\n",
    "data1:Dict[Key,Value] ={\n",
    "                        \"name\" :\"alina\" ,\n",
    "                        \"age\":19,\n",
    "                          \"height\":\"5.2feet\"\n",
    "                                }\n",
    "data.update(data1)\n",
    "print(\"before\" ,data)\n",
    "# data.clear()\n",
    "# del data\n",
    "a:str =data.pop(\"education\")\n",
    "print(\"after\" ,data)\n",
    "\n",
    "methods:list[str]=[m for m in dir(data) if \"__\" not in m]\n",
    "print(methods)\n"
   ]
  },
  {
   "cell_type": "code",
   "execution_count": 11,
   "metadata": {},
   "outputs": [
    {
     "ename": "TypeError",
     "evalue": "type 'DataFrame' is not subscriptable",
     "output_type": "error",
     "traceback": [
      "\u001b[1;31m---------------------------------------------------------------------------\u001b[0m",
      "\u001b[1;31mTypeError\u001b[0m                                 Traceback (most recent call last)",
      "\u001b[1;32mc:\\Users\\Tesla Laptops\\OneDrive - Higher Education Commission\\python\\class8\\dicMethod.ipynb Cell 2\u001b[0m line \u001b[0;36m9\n\u001b[0;32m      <a href='vscode-notebook-cell:/c%3A/Users/Tesla%20Laptops/OneDrive%20-%20Higher%20Education%20Commission/python/class8/dicMethod.ipynb#W1sZmlsZQ%3D%3D?line=1'>2</a>\u001b[0m \u001b[39mfrom\u001b[39;00m  \u001b[39mtyping\u001b[39;00m \u001b[39mimport\u001b[39;00m  Any \n\u001b[0;32m      <a href='vscode-notebook-cell:/c%3A/Users/Tesla%20Laptops/OneDrive%20-%20Higher%20Education%20Commission/python/class8/dicMethod.ipynb#W1sZmlsZQ%3D%3D?line=2'>3</a>\u001b[0m student_data : Dict[\u001b[39mstr\u001b[39m,\u001b[39mlist\u001b[39m[Any]]\u001b[39m=\u001b[39m{\n\u001b[0;32m      <a href='vscode-notebook-cell:/c%3A/Users/Tesla%20Laptops/OneDrive%20-%20Higher%20Education%20Commission/python/class8/dicMethod.ipynb#W1sZmlsZQ%3D%3D?line=3'>4</a>\u001b[0m     \u001b[39m\"\u001b[39m\u001b[39mrollno\u001b[39m\u001b[39m\"\u001b[39m: [\u001b[39m1\u001b[39m,\u001b[39m2\u001b[39m,\u001b[39m3\u001b[39m],\n\u001b[0;32m      <a href='vscode-notebook-cell:/c%3A/Users/Tesla%20Laptops/OneDrive%20-%20Higher%20Education%20Commission/python/class8/dicMethod.ipynb#W1sZmlsZQ%3D%3D?line=4'>5</a>\u001b[0m     \u001b[39m\"\u001b[39m\u001b[39mnmae\u001b[39m\u001b[39m\"\u001b[39m:[\u001b[39m\"\u001b[39m\u001b[39mzarnian\u001b[39m\u001b[39m\"\u001b[39m , \u001b[39m\"\u001b[39m\u001b[39minam\u001b[39m\u001b[39m\"\u001b[39m , \u001b[39m\"\u001b[39m\u001b[39malina\u001b[39m\u001b[39m\"\u001b[39m],\n\u001b[0;32m      <a href='vscode-notebook-cell:/c%3A/Users/Tesla%20Laptops/OneDrive%20-%20Higher%20Education%20Commission/python/class8/dicMethod.ipynb#W1sZmlsZQ%3D%3D?line=5'>6</a>\u001b[0m \u001b[39m\"\u001b[39m\u001b[39meducation\u001b[39m\u001b[39m\"\u001b[39m :[\u001b[39m\"\u001b[39m\u001b[39mbsse\u001b[39m\u001b[39m\"\u001b[39m , \u001b[39m\"\u001b[39m\u001b[39mbscs\u001b[39m\u001b[39m\"\u001b[39m , \u001b[39m\"\u001b[39m\u001b[39mbsai\u001b[39m\u001b[39m\"\u001b[39m]\n\u001b[0;32m      <a href='vscode-notebook-cell:/c%3A/Users/Tesla%20Laptops/OneDrive%20-%20Higher%20Education%20Commission/python/class8/dicMethod.ipynb#W1sZmlsZQ%3D%3D?line=6'>7</a>\u001b[0m }\n\u001b[1;32m----> <a href='vscode-notebook-cell:/c%3A/Users/Tesla%20Laptops/OneDrive%20-%20Higher%20Education%20Commission/python/class8/dicMethod.ipynb#W1sZmlsZQ%3D%3D?line=8'>9</a>\u001b[0m df:pd\u001b[39m.\u001b[39mDataFrame\u001b[39m=\u001b[39mpd\u001b[39m.\u001b[39;49mDataFrame[student_data]\n\u001b[0;32m     <a href='vscode-notebook-cell:/c%3A/Users/Tesla%20Laptops/OneDrive%20-%20Higher%20Education%20Commission/python/class8/dicMethod.ipynb#W1sZmlsZQ%3D%3D?line=9'>10</a>\u001b[0m df\n",
      "\u001b[1;31mTypeError\u001b[0m: type 'DataFrame' is not subscriptable"
     ]
    }
   ],
   "source": [
    "import pandas as pd\n",
    "from  typing import  Any \n",
    "student_data : Dict[str,list[Any]]={\n",
    "    \"rollno\": [1,2,3],\n",
    "    \"nmae\":[\"zarnian\" , \"inam\" , \"alina\"],\n",
    "\"education\" :[\"bsse\" , \"bscs\" , \"bsai\"]\n",
    "}\n",
    "\n",
    "df:pd.DataFrame=pd.DataFrame[student_data]\n",
    "df\n"
   ]
  },
  {
   "cell_type": "code",
   "execution_count": null,
   "metadata": {},
   "outputs": [],
   "source": []
  }
 ],
 "metadata": {
  "kernelspec": {
   "display_name": "python12",
   "language": "python",
   "name": "python3"
  },
  "language_info": {
   "codemirror_mode": {
    "name": "ipython",
    "version": 3
   },
   "file_extension": ".py",
   "mimetype": "text/x-python",
   "name": "python",
   "nbconvert_exporter": "python",
   "pygments_lexer": "ipython3",
   "version": "3.12.0"
  }
 },
 "nbformat": 4,
 "nbformat_minor": 2
}
